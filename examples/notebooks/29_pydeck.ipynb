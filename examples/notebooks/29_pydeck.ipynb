{
  "nbformat": 4,
  "nbformat_minor": 0,
  "metadata": {
    "hide_input": false,
    "kernelspec": {
      "display_name": "Python 3",
      "language": "python",
      "name": "python3"
    },
    "language_info": {
      "codemirror_mode": {
        "name": "ipython",
        "version": 3
      },
      "file_extension": ".py",
      "mimetype": "text/x-python",
      "name": "python",
      "nbconvert_exporter": "python",
      "pygments_lexer": "ipython3",
      "version": "3.8.5"
    },
    "toc": {
      "base_numbering": 1,
      "nav_menu": {},
      "number_sections": true,
      "sideBar": true,
      "skip_h1_title": true,
      "title_cell": "Table of Contents",
      "title_sidebar": "Table of Contents",
      "toc_cell": false,
      "toc_position": {},
      "toc_section_display": true,
      "toc_window_display": true
    },
    "varInspector": {
      "cols": {
        "lenName": 16,
        "lenType": 16,
        "lenVar": 40
      },
      "kernels_config": {
        "python": {
          "delete_cmd_postfix": "",
          "delete_cmd_prefix": "del ",
          "library": "var_list.py",
          "varRefreshCmd": "print(var_dic_list())"
        },
        "r": {
          "delete_cmd_postfix": ") ",
          "delete_cmd_prefix": "rm(",
          "library": "var_list.r",
          "varRefreshCmd": "cat(var_dic_list()) "
        }
      },
      "types_to_exclude": [
        "module",
        "function",
        "builtin_function_or_method",
        "instance",
        "_Feature"
      ],
      "window_display": false
    },
    "colab": {
      "name": "29_pydeck.ipynb",
      "provenance": [],
      "include_colab_link": true
    }
  },
  "cells": [
    {
      "cell_type": "markdown",
      "metadata": {
        "id": "view-in-github",
        "colab_type": "text"
      },
      "source": [
        "<a href=\"https://colab.research.google.com/github/datamongerbonny/DS_Portfolio/blob/master/examples/notebooks/29_pydeck.ipynb\" target=\"_parent\"><img src=\"https://colab.research.google.com/assets/colab-badge.svg\" alt=\"Open In Colab\"/></a>"
      ]
    },
    {
      "cell_type": "markdown",
      "metadata": {
        "id": "-Q4DHaiGl1N2"
      },
      "source": [
        "<a href=\"https://githubtocolab.com/giswqs/geemap/blob/master/examples/notebooks/29_pydeck.ipynb\" target=\"_parent\"><img src=\"https://colab.research.google.com/assets/colab-badge.svg\" alt=\"Open in Colab\"/></a>\n",
        "\n",
        "Uncomment the following line to install [geemap](https://geemap.org) if needed."
      ]
    },
    {
      "cell_type": "code",
      "metadata": {
        "id": "Doysbuw6l1N5",
        "outputId": "4f742bd4-0283-4857-f878-f35e10b6525b",
        "colab": {
          "base_uri": "https://localhost:8080/",
          "height": 1000
        }
      },
      "source": [
        "!pip install geemap"
      ],
      "execution_count": 1,
      "outputs": [
        {
          "output_type": "stream",
          "text": [
            "Collecting geemap\n",
            "\u001b[?25l  Downloading https://files.pythonhosted.org/packages/04/a5/b756fc48f2ca3ede2bb845b1fce8dedf227bdefec47dd8aeb34136c7f3d2/geemap-0.8.16-py2.py3-none-any.whl (456kB)\n",
            "\u001b[K     |████████████████████████████████| 460kB 5.0MB/s \n",
            "\u001b[?25hRequirement already satisfied: pillow in /usr/local/lib/python3.7/dist-packages (from geemap) (7.1.2)\n",
            "Collecting ipyevents\n",
            "\u001b[?25l  Downloading https://files.pythonhosted.org/packages/ba/b5/b5861db870aa465be738996da9833fdf39e395b9aa0802ed2fc347297ae8/ipyevents-0.8.2-py2.py3-none-any.whl (133kB)\n",
            "\u001b[K     |████████████████████████████████| 143kB 23.9MB/s \n",
            "\u001b[?25hRequirement already satisfied: googledrivedownloader in /usr/local/lib/python3.7/dist-packages (from geemap) (0.4)\n",
            "Collecting ipyfilechooser\n",
            "  Downloading https://files.pythonhosted.org/packages/5b/4a/f117ea1d1fd5f4c488295a1af5d69a6fa59f676e3cfd4a427f6d52aa6294/ipyfilechooser-0.4.3-py3-none-any.whl\n",
            "Collecting pycrs\n",
            "  Downloading https://files.pythonhosted.org/packages/50/0b/33c6ab39701d982eabfdc732d920862d79d7598893c7291c5f6ec1e66d3c/PyCRS-1.0.2.tar.gz\n",
            "Collecting ipytree\n",
            "\u001b[?25l  Downloading https://files.pythonhosted.org/packages/57/a3/67e37560306b4bb72d6d91cca980e972e324357ae50e8a77519bebbc03ea/ipytree-0.2.1-py2.py3-none-any.whl (1.3MB)\n",
            "\u001b[K     |████████████████████████████████| 1.3MB 21.3MB/s \n",
            "\u001b[?25hCollecting geocoder\n",
            "\u001b[?25l  Downloading https://files.pythonhosted.org/packages/4f/6b/13166c909ad2f2d76b929a4227c952630ebaf0d729f6317eb09cbceccbab/geocoder-1.38.1-py2.py3-none-any.whl (98kB)\n",
            "\u001b[K     |████████████████████████████████| 102kB 10.0MB/s \n",
            "\u001b[?25hCollecting python-box\n",
            "  Downloading https://files.pythonhosted.org/packages/ae/55/b81be1c1456d93db93905b364d19cac5dde22fb8f442b42d41087c2fe28f/python_box-5.3.0-py3-none-any.whl\n",
            "Requirement already satisfied: matplotlib in /usr/local/lib/python3.7/dist-packages (from geemap) (3.2.2)\n",
            "Collecting colour\n",
            "  Downloading https://files.pythonhosted.org/packages/74/46/e81907704ab203206769dee1385dc77e1407576ff8f50a0681d0a6b541be/colour-0.1.5-py2.py3-none-any.whl\n",
            "Collecting geeadd>=0.5.1\n",
            "  Downloading https://files.pythonhosted.org/packages/32/9c/78eaf7727591ce5fb6f307bc98e22cf7bc0e9c08542653930c3ec7f8f464/geeadd-0.5.4-py3-none-any.whl\n",
            "Collecting folium>=0.11.0\n",
            "\u001b[?25l  Downloading https://files.pythonhosted.org/packages/c3/83/e8cb37afc2f016a1cf4caab8d22caf7fe4156c4c15230d8abc9c83547e0c/folium-0.12.1-py2.py3-none-any.whl (94kB)\n",
            "\u001b[K     |████████████████████████████████| 102kB 10.1MB/s \n",
            "\u001b[?25hRequirement already satisfied: numpy in /usr/local/lib/python3.7/dist-packages (from geemap) (1.19.5)\n",
            "Requirement already satisfied: click in /usr/local/lib/python3.7/dist-packages (from geemap) (7.1.2)\n",
            "Collecting whiteboxgui\n",
            "  Downloading https://files.pythonhosted.org/packages/3e/9d/71e9192f4c748b29efe8beecd5a88300a654e2a87b856c7a3bb91fdbe606/whiteboxgui-0.1.9-py2.py3-none-any.whl\n",
            "Collecting ffmpeg-python\n",
            "  Downloading https://files.pythonhosted.org/packages/d7/0c/56be52741f75bad4dc6555991fabd2e07b432d333da82c11ad701123888a/ffmpeg_python-0.2.0-py3-none-any.whl\n",
            "Collecting ipynb-py-convert\n",
            "  Downloading https://files.pythonhosted.org/packages/43/90/37ff1b9f553583e60c327e1ea8cbfea469c38c9d8791ad1f7ee6d3482efa/ipynb-py-convert-0.4.6.tar.gz\n",
            "Collecting pyshp>=2.1.3\n",
            "\u001b[?25l  Downloading https://files.pythonhosted.org/packages/38/85/fbf87e7aa55103e0d06af756bdbc15cf821fa580414c23142d60a35d4f85/pyshp-2.1.3.tar.gz (219kB)\n",
            "\u001b[K     |████████████████████████████████| 225kB 35.4MB/s \n",
            "\u001b[?25hCollecting bqplot\n",
            "\u001b[?25l  Downloading https://files.pythonhosted.org/packages/45/a6/0d8d1a2d9a62d909b5ba71b375002ee892ca209b0a96f566a24f2dba4d91/bqplot-0.12.27-py2.py3-none-any.whl (1.2MB)\n",
            "\u001b[K     |████████████████████████████████| 1.2MB 31.1MB/s \n",
            "\u001b[?25hRequirement already satisfied: pandas in /usr/local/lib/python3.7/dist-packages (from geemap) (1.1.5)\n",
            "Collecting ipyleaflet<=0.13.3\n",
            "\u001b[?25l  Downloading https://files.pythonhosted.org/packages/a0/9d/f411b8a9522f1710f278c60b2cd8d26817d8c64b7568de95f9437db6caf0/ipyleaflet-0.13.3-py2.py3-none-any.whl (5.1MB)\n",
            "\u001b[K     |████████████████████████████████| 5.1MB 36.7MB/s \n",
            "\u001b[?25hCollecting mss\n",
            "\u001b[?25l  Downloading https://files.pythonhosted.org/packages/d7/5f/77dece686b8d08a17430e169e936722693712b8cf1ee638caa8b1cb6452b/mss-6.1.0-py3-none-any.whl (76kB)\n",
            "\u001b[K     |████████████████████████████████| 81kB 8.6MB/s \n",
            "\u001b[?25hRequirement already satisfied: earthengine-api>=0.1.230 in /usr/local/lib/python3.7/dist-packages (from geemap) (0.1.266)\n",
            "Collecting voila\n",
            "\u001b[?25l  Downloading https://files.pythonhosted.org/packages/5d/35/cf7d765edd2b48838ac69ff0435cec594bdd8a44329fb21a86a6d7e4c584/voila-0.2.10-py3-none-any.whl (1.6MB)\n",
            "\u001b[K     |████████████████████████████████| 1.6MB 41.7MB/s \n",
            "\u001b[?25hRequirement already satisfied: ipywidgets>=7.0.0 in /usr/local/lib/python3.7/dist-packages (from ipyevents->geemap) (7.6.3)\n",
            "Requirement already satisfied: six in /usr/local/lib/python3.7/dist-packages (from geocoder->geemap) (1.15.0)\n",
            "Requirement already satisfied: future in /usr/local/lib/python3.7/dist-packages (from geocoder->geemap) (0.16.0)\n",
            "Collecting ratelim\n",
            "  Downloading https://files.pythonhosted.org/packages/f2/98/7e6d147fd16a10a5f821db6e25f192265d6ecca3d82957a4fdd592cad49c/ratelim-0.1.6-py2.py3-none-any.whl\n",
            "Requirement already satisfied: requests in /usr/local/lib/python3.7/dist-packages (from geocoder->geemap) (2.23.0)\n",
            "Requirement already satisfied: python-dateutil>=2.1 in /usr/local/lib/python3.7/dist-packages (from matplotlib->geemap) (2.8.1)\n",
            "Requirement already satisfied: cycler>=0.10 in /usr/local/lib/python3.7/dist-packages (from matplotlib->geemap) (0.10.0)\n",
            "Requirement already satisfied: pyparsing!=2.0.4,!=2.1.2,!=2.1.6,>=2.0.1 in /usr/local/lib/python3.7/dist-packages (from matplotlib->geemap) (2.4.7)\n",
            "Requirement already satisfied: kiwisolver>=1.0.1 in /usr/local/lib/python3.7/dist-packages (from matplotlib->geemap) (1.3.1)\n",
            "Collecting logzero>=1.5.0\n",
            "  Downloading https://files.pythonhosted.org/packages/b3/68/aa714515d65090fcbcc9a1f3debd5a644b14aad11e59238f42f00bd4b298/logzero-1.7.0-py2.py3-none-any.whl\n",
            "Collecting beautifulsoup4>=4.9.0\n",
            "\u001b[?25l  Downloading https://files.pythonhosted.org/packages/d1/41/e6495bd7d3781cee623ce23ea6ac73282a373088fcd0ddc809a047b18eae/beautifulsoup4-4.9.3-py3-none-any.whl (115kB)\n",
            "\u001b[K     |████████████████████████████████| 122kB 39.0MB/s \n",
            "\u001b[?25hRequirement already satisfied: branca>=0.3.0 in /usr/local/lib/python3.7/dist-packages (from folium>=0.11.0->geemap) (0.4.2)\n",
            "Requirement already satisfied: jinja2>=2.9 in /usr/local/lib/python3.7/dist-packages (from folium>=0.11.0->geemap) (2.11.3)\n",
            "Collecting whitebox\n",
            "\u001b[?25l  Downloading https://files.pythonhosted.org/packages/67/c7/1487e5f98f3528d56a29bdd44601b3b65c24022680eca10c9bfc7b64237d/whitebox-1.4.1-py2.py3-none-any.whl (63kB)\n",
            "\u001b[K     |████████████████████████████████| 71kB 6.8MB/s \n",
            "\u001b[?25hCollecting traittypes>=0.0.6\n",
            "  Downloading https://files.pythonhosted.org/packages/9c/d1/8d5bd662703cc1764d986f6908a608777305946fa634d34c470cd4a1e729/traittypes-0.2.1-py2.py3-none-any.whl\n",
            "Requirement already satisfied: traitlets>=4.3.0 in /usr/local/lib/python3.7/dist-packages (from bqplot->geemap) (5.0.5)\n",
            "Requirement already satisfied: pytz>=2017.2 in /usr/local/lib/python3.7/dist-packages (from pandas->geemap) (2018.9)\n",
            "Requirement already satisfied: httplib2<1dev,>=0.9.2 in /usr/local/lib/python3.7/dist-packages (from earthengine-api>=0.1.230->geemap) (0.17.4)\n",
            "Requirement already satisfied: google-auth-httplib2>=0.0.3 in /usr/local/lib/python3.7/dist-packages (from earthengine-api>=0.1.230->geemap) (0.0.4)\n",
            "Requirement already satisfied: google-auth>=1.4.1 in /usr/local/lib/python3.7/dist-packages (from earthengine-api>=0.1.230->geemap) (1.30.0)\n",
            "Requirement already satisfied: httplib2shim in /usr/local/lib/python3.7/dist-packages (from earthengine-api>=0.1.230->geemap) (0.0.3)\n",
            "Requirement already satisfied: google-api-python-client<2,>=1.12.1 in /usr/local/lib/python3.7/dist-packages (from earthengine-api>=0.1.230->geemap) (1.12.8)\n",
            "Requirement already satisfied: google-cloud-storage in /usr/local/lib/python3.7/dist-packages (from earthengine-api>=0.1.230->geemap) (1.18.1)\n",
            "Collecting jupyter-client<7,>=6.1.3\n",
            "\u001b[?25l  Downloading https://files.pythonhosted.org/packages/77/e8/c3cf72a32a697256608d5fa96360c431adec6e1c6709ba7f13f99ff5ee04/jupyter_client-6.1.12-py3-none-any.whl (112kB)\n",
            "\u001b[K     |████████████████████████████████| 122kB 38.1MB/s \n",
            "\u001b[?25hRequirement already satisfied: nbclient<0.6,>=0.4.0 in /usr/local/lib/python3.7/dist-packages (from voila->geemap) (0.5.3)\n",
            "Collecting nbconvert<7,>=6.0.0\n",
            "\u001b[?25l  Downloading https://files.pythonhosted.org/packages/13/2f/acbe7006548f3914456ee47f97a2033b1b2f3daf921b12ac94105d87c163/nbconvert-6.0.7-py3-none-any.whl (552kB)\n",
            "\u001b[K     |████████████████████████████████| 552kB 35.4MB/s \n",
            "\u001b[?25hCollecting jupyter-server<2.0.0,>=0.3.0\n",
            "\u001b[?25l  Downloading https://files.pythonhosted.org/packages/b7/58/8a69c6badaf74daf9aaf690a9839004ac3b78633189d0d0feab11669b751/jupyter_server-1.8.0-py3-none-any.whl (382kB)\n",
            "\u001b[K     |████████████████████████████████| 389kB 28.0MB/s \n",
            "\u001b[?25hRequirement already satisfied: nbformat>=4.2.0 in /usr/local/lib/python3.7/dist-packages (from ipywidgets>=7.0.0->ipyevents->geemap) (5.1.3)\n",
            "Requirement already satisfied: ipykernel>=4.5.1 in /usr/local/lib/python3.7/dist-packages (from ipywidgets>=7.0.0->ipyevents->geemap) (4.10.1)\n",
            "Requirement already satisfied: widgetsnbextension~=3.5.0 in /usr/local/lib/python3.7/dist-packages (from ipywidgets>=7.0.0->ipyevents->geemap) (3.5.1)\n",
            "Requirement already satisfied: ipython>=4.0.0; python_version >= \"3.3\" in /usr/local/lib/python3.7/dist-packages (from ipywidgets>=7.0.0->ipyevents->geemap) (5.5.0)\n",
            "Requirement already satisfied: jupyterlab-widgets>=1.0.0; python_version >= \"3.6\" in /usr/local/lib/python3.7/dist-packages (from ipywidgets>=7.0.0->ipyevents->geemap) (1.0.0)\n",
            "Requirement already satisfied: decorator in /usr/local/lib/python3.7/dist-packages (from ratelim->geocoder->geemap) (4.4.2)\n",
            "Requirement already satisfied: idna<3,>=2.5 in /usr/local/lib/python3.7/dist-packages (from requests->geocoder->geemap) (2.10)\n",
            "Requirement already satisfied: chardet<4,>=3.0.2 in /usr/local/lib/python3.7/dist-packages (from requests->geocoder->geemap) (3.0.4)\n",
            "Requirement already satisfied: urllib3!=1.25.0,!=1.25.1,<1.26,>=1.21.1 in /usr/local/lib/python3.7/dist-packages (from requests->geocoder->geemap) (1.24.3)\n",
            "Requirement already satisfied: certifi>=2017.4.17 in /usr/local/lib/python3.7/dist-packages (from requests->geocoder->geemap) (2020.12.5)\n",
            "Collecting soupsieve>1.2; python_version >= \"3.0\"\n",
            "  Downloading https://files.pythonhosted.org/packages/36/69/d82d04022f02733bf9a72bc3b96332d360c0c5307096d76f6bb7489f7e57/soupsieve-2.2.1-py3-none-any.whl\n",
            "Requirement already satisfied: MarkupSafe>=0.23 in /usr/local/lib/python3.7/dist-packages (from jinja2>=2.9->folium>=0.11.0->geemap) (2.0.1)\n",
            "Requirement already satisfied: ipython-genutils in /usr/local/lib/python3.7/dist-packages (from traitlets>=4.3.0->bqplot->geemap) (0.2.0)\n",
            "Requirement already satisfied: pyasn1-modules>=0.2.1 in /usr/local/lib/python3.7/dist-packages (from google-auth>=1.4.1->earthengine-api>=0.1.230->geemap) (0.2.8)\n",
            "Requirement already satisfied: cachetools<5.0,>=2.0.0 in /usr/local/lib/python3.7/dist-packages (from google-auth>=1.4.1->earthengine-api>=0.1.230->geemap) (4.2.2)\n",
            "Requirement already satisfied: setuptools>=40.3.0 in /usr/local/lib/python3.7/dist-packages (from google-auth>=1.4.1->earthengine-api>=0.1.230->geemap) (56.1.0)\n",
            "Requirement already satisfied: rsa<5,>=3.1.4; python_version >= \"3.6\" in /usr/local/lib/python3.7/dist-packages (from google-auth>=1.4.1->earthengine-api>=0.1.230->geemap) (4.7.2)\n",
            "Requirement already satisfied: google-api-core<2dev,>=1.21.0 in /usr/local/lib/python3.7/dist-packages (from google-api-python-client<2,>=1.12.1->earthengine-api>=0.1.230->geemap) (1.26.3)\n",
            "Requirement already satisfied: uritemplate<4dev,>=3.0.0 in /usr/local/lib/python3.7/dist-packages (from google-api-python-client<2,>=1.12.1->earthengine-api>=0.1.230->geemap) (3.0.1)\n",
            "Requirement already satisfied: google-cloud-core<2.0dev,>=1.0.0 in /usr/local/lib/python3.7/dist-packages (from google-cloud-storage->earthengine-api>=0.1.230->geemap) (1.0.3)\n",
            "Requirement already satisfied: google-resumable-media<0.5.0dev,>=0.3.1 in /usr/local/lib/python3.7/dist-packages (from google-cloud-storage->earthengine-api>=0.1.230->geemap) (0.4.1)\n",
            "Requirement already satisfied: jupyter-core>=4.6.0 in /usr/local/lib/python3.7/dist-packages (from jupyter-client<7,>=6.1.3->voila->geemap) (4.7.1)\n",
            "Requirement already satisfied: pyzmq>=13 in /usr/local/lib/python3.7/dist-packages (from jupyter-client<7,>=6.1.3->voila->geemap) (22.0.3)\n",
            "Requirement already satisfied: tornado>=4.1 in /usr/local/lib/python3.7/dist-packages (from jupyter-client<7,>=6.1.3->voila->geemap) (5.1.1)\n",
            "Requirement already satisfied: async-generator in /usr/local/lib/python3.7/dist-packages (from nbclient<0.6,>=0.4.0->voila->geemap) (1.10)\n",
            "Requirement already satisfied: nest-asyncio in /usr/local/lib/python3.7/dist-packages (from nbclient<0.6,>=0.4.0->voila->geemap) (1.5.1)\n",
            "Requirement already satisfied: jupyterlab-pygments in /usr/local/lib/python3.7/dist-packages (from nbconvert<7,>=6.0.0->voila->geemap) (0.1.2)\n",
            "Requirement already satisfied: pandocfilters>=1.4.1 in /usr/local/lib/python3.7/dist-packages (from nbconvert<7,>=6.0.0->voila->geemap) (1.4.3)\n",
            "Requirement already satisfied: defusedxml in /usr/local/lib/python3.7/dist-packages (from nbconvert<7,>=6.0.0->voila->geemap) (0.7.1)\n",
            "Requirement already satisfied: mistune<2,>=0.8.1 in /usr/local/lib/python3.7/dist-packages (from nbconvert<7,>=6.0.0->voila->geemap) (0.8.4)\n",
            "Requirement already satisfied: bleach in /usr/local/lib/python3.7/dist-packages (from nbconvert<7,>=6.0.0->voila->geemap) (3.3.0)\n",
            "Requirement already satisfied: entrypoints>=0.2.2 in /usr/local/lib/python3.7/dist-packages (from nbconvert<7,>=6.0.0->voila->geemap) (0.3)\n",
            "Requirement already satisfied: pygments>=2.4.1 in /usr/local/lib/python3.7/dist-packages (from nbconvert<7,>=6.0.0->voila->geemap) (2.6.1)\n",
            "Requirement already satisfied: testpath in /usr/local/lib/python3.7/dist-packages (from nbconvert<7,>=6.0.0->voila->geemap) (0.5.0)\n",
            "Collecting websocket-client\n",
            "\u001b[?25l  Downloading https://files.pythonhosted.org/packages/85/ee/7aa724dc2dbed9b028f463eada5482770c13b7381a0c79457d12b3b62de2/websocket_client-1.0.1-py2.py3-none-any.whl (68kB)\n",
            "\u001b[K     |████████████████████████████████| 71kB 5.8MB/s \n",
            "\u001b[?25hRequirement already satisfied: Send2Trash in /usr/local/lib/python3.7/dist-packages (from jupyter-server<2.0.0,>=0.3.0->voila->geemap) (1.5.0)\n",
            "Requirement already satisfied: terminado>=0.8.3 in /usr/local/lib/python3.7/dist-packages (from jupyter-server<2.0.0,>=0.3.0->voila->geemap) (0.10.0)\n",
            "Collecting anyio<4,>=3.1.0\n",
            "\u001b[?25l  Downloading https://files.pythonhosted.org/packages/72/47/0c30d51c30d23eecead360e8624ad3972ebd8f9933265a91fca1372d37cf/anyio-3.1.0-py3-none-any.whl (74kB)\n",
            "\u001b[K     |████████████████████████████████| 81kB 8.2MB/s \n",
            "\u001b[?25hRequirement already satisfied: argon2-cffi in /usr/local/lib/python3.7/dist-packages (from jupyter-server<2.0.0,>=0.3.0->voila->geemap) (20.1.0)\n",
            "Requirement already satisfied: prometheus-client in /usr/local/lib/python3.7/dist-packages (from jupyter-server<2.0.0,>=0.3.0->voila->geemap) (0.10.1)\n",
            "Requirement already satisfied: jsonschema!=2.5.0,>=2.4 in /usr/local/lib/python3.7/dist-packages (from nbformat>=4.2.0->ipywidgets>=7.0.0->ipyevents->geemap) (2.6.0)\n",
            "Requirement already satisfied: notebook>=4.4.1 in /usr/local/lib/python3.7/dist-packages (from widgetsnbextension~=3.5.0->ipywidgets>=7.0.0->ipyevents->geemap) (5.3.1)\n",
            "Requirement already satisfied: pickleshare in /usr/local/lib/python3.7/dist-packages (from ipython>=4.0.0; python_version >= \"3.3\"->ipywidgets>=7.0.0->ipyevents->geemap) (0.7.5)\n",
            "Requirement already satisfied: prompt-toolkit<2.0.0,>=1.0.4 in /usr/local/lib/python3.7/dist-packages (from ipython>=4.0.0; python_version >= \"3.3\"->ipywidgets>=7.0.0->ipyevents->geemap) (1.0.18)\n",
            "Requirement already satisfied: pexpect; sys_platform != \"win32\" in /usr/local/lib/python3.7/dist-packages (from ipython>=4.0.0; python_version >= \"3.3\"->ipywidgets>=7.0.0->ipyevents->geemap) (4.8.0)\n",
            "Requirement already satisfied: simplegeneric>0.8 in /usr/local/lib/python3.7/dist-packages (from ipython>=4.0.0; python_version >= \"3.3\"->ipywidgets>=7.0.0->ipyevents->geemap) (0.8.1)\n",
            "Requirement already satisfied: pyasn1<0.5.0,>=0.4.6 in /usr/local/lib/python3.7/dist-packages (from pyasn1-modules>=0.2.1->google-auth>=1.4.1->earthengine-api>=0.1.230->geemap) (0.4.8)\n",
            "Requirement already satisfied: googleapis-common-protos<2.0dev,>=1.6.0 in /usr/local/lib/python3.7/dist-packages (from google-api-core<2dev,>=1.21.0->google-api-python-client<2,>=1.12.1->earthengine-api>=0.1.230->geemap) (1.53.0)\n",
            "Requirement already satisfied: packaging>=14.3 in /usr/local/lib/python3.7/dist-packages (from google-api-core<2dev,>=1.21.0->google-api-python-client<2,>=1.12.1->earthengine-api>=0.1.230->geemap) (20.9)\n",
            "Requirement already satisfied: protobuf>=3.12.0 in /usr/local/lib/python3.7/dist-packages (from google-api-core<2dev,>=1.21.0->google-api-python-client<2,>=1.12.1->earthengine-api>=0.1.230->geemap) (3.12.4)\n",
            "Requirement already satisfied: webencodings in /usr/local/lib/python3.7/dist-packages (from bleach->nbconvert<7,>=6.0.0->voila->geemap) (0.5.1)\n",
            "Requirement already satisfied: ptyprocess; os_name != \"nt\" in /usr/local/lib/python3.7/dist-packages (from terminado>=0.8.3->jupyter-server<2.0.0,>=0.3.0->voila->geemap) (0.7.0)\n",
            "Collecting sniffio>=1.1\n",
            "  Downloading https://files.pythonhosted.org/packages/52/b0/7b2e028b63d092804b6794595871f936aafa5e9322dcaaad50ebf67445b3/sniffio-1.2.0-py3-none-any.whl\n",
            "Requirement already satisfied: typing-extensions; python_version < \"3.8\" in /usr/local/lib/python3.7/dist-packages (from anyio<4,>=3.1.0->jupyter-server<2.0.0,>=0.3.0->voila->geemap) (3.7.4.3)\n",
            "Requirement already satisfied: cffi>=1.0.0 in /usr/local/lib/python3.7/dist-packages (from argon2-cffi->jupyter-server<2.0.0,>=0.3.0->voila->geemap) (1.14.5)\n",
            "Requirement already satisfied: wcwidth in /usr/local/lib/python3.7/dist-packages (from prompt-toolkit<2.0.0,>=1.0.4->ipython>=4.0.0; python_version >= \"3.3\"->ipywidgets>=7.0.0->ipyevents->geemap) (0.2.5)\n",
            "Requirement already satisfied: pycparser in /usr/local/lib/python3.7/dist-packages (from cffi>=1.0.0->argon2-cffi->jupyter-server<2.0.0,>=0.3.0->voila->geemap) (2.20)\n",
            "Building wheels for collected packages: pycrs, ipynb-py-convert, pyshp\n",
            "  Building wheel for pycrs (setup.py) ... \u001b[?25l\u001b[?25hdone\n",
            "  Created wheel for pycrs: filename=PyCRS-1.0.2-cp37-none-any.whl size=32683 sha256=6e2054350e9a18cb48b41a36c3286ed3d92ebcd8e3d72dd691ce809b94f3b46c\n",
            "  Stored in directory: /root/.cache/pip/wheels/1a/c9/56/648f762bd41fdb03454be51b8a7069795925168833cb61f316\n",
            "  Building wheel for ipynb-py-convert (setup.py) ... \u001b[?25l\u001b[?25hdone\n",
            "  Created wheel for ipynb-py-convert: filename=ipynb_py_convert-0.4.6-cp37-none-any.whl size=4624 sha256=4acce9b20255a51218eae32f1a42cfb754918b91b3844689b9f2ad0015df91e2\n",
            "  Stored in directory: /root/.cache/pip/wheels/80/dc/7c/a7279f7726d66951fe48d5afd45247bcf5bf92c98282e4e78e\n",
            "  Building wheel for pyshp (setup.py) ... \u001b[?25l\u001b[?25hdone\n",
            "  Created wheel for pyshp: filename=pyshp-2.1.3-cp37-none-any.whl size=37264 sha256=8cbedd6bdbf602aca16d51ae51d7537c9b0f69f22d4aae2a07ff0218852a262d\n",
            "  Stored in directory: /root/.cache/pip/wheels/76/2b/d4/53e6b9a0fb0a9f9f29664cf82605af8bc81d5ab44d987896dd\n",
            "Successfully built pycrs ipynb-py-convert pyshp\n",
            "\u001b[31mERROR: datascience 0.10.6 has requirement folium==0.2.1, but you'll have folium 0.12.1 which is incompatible.\u001b[0m\n",
            "\u001b[31mERROR: jupyter-server 1.8.0 has requirement tornado>=6.1.0, but you'll have tornado 5.1.1 which is incompatible.\u001b[0m\n",
            "Installing collected packages: ipyevents, ipyfilechooser, pycrs, ipytree, ratelim, geocoder, python-box, colour, logzero, soupsieve, beautifulsoup4, geeadd, folium, whitebox, whiteboxgui, ffmpeg-python, ipynb-py-convert, pyshp, traittypes, bqplot, ipyleaflet, mss, jupyter-client, nbconvert, websocket-client, sniffio, anyio, jupyter-server, voila, geemap\n",
            "  Found existing installation: beautifulsoup4 4.6.3\n",
            "    Uninstalling beautifulsoup4-4.6.3:\n",
            "      Successfully uninstalled beautifulsoup4-4.6.3\n",
            "  Found existing installation: folium 0.8.3\n",
            "    Uninstalling folium-0.8.3:\n",
            "      Successfully uninstalled folium-0.8.3\n",
            "  Found existing installation: jupyter-client 5.3.5\n",
            "    Uninstalling jupyter-client-5.3.5:\n",
            "      Successfully uninstalled jupyter-client-5.3.5\n",
            "  Found existing installation: nbconvert 5.6.1\n",
            "    Uninstalling nbconvert-5.6.1:\n",
            "      Successfully uninstalled nbconvert-5.6.1\n",
            "Successfully installed anyio-3.1.0 beautifulsoup4-4.9.3 bqplot-0.12.27 colour-0.1.5 ffmpeg-python-0.2.0 folium-0.12.1 geeadd-0.5.4 geemap-0.8.16 geocoder-1.38.1 ipyevents-0.8.2 ipyfilechooser-0.4.3 ipyleaflet-0.13.3 ipynb-py-convert-0.4.6 ipytree-0.2.1 jupyter-client-6.1.12 jupyter-server-1.8.0 logzero-1.7.0 mss-6.1.0 nbconvert-6.0.7 pycrs-1.0.2 pyshp-2.1.3 python-box-5.3.0 ratelim-0.1.6 sniffio-1.2.0 soupsieve-2.2.1 traittypes-0.2.1 voila-0.2.10 websocket-client-1.0.1 whitebox-1.4.1 whiteboxgui-0.1.9\n"
          ],
          "name": "stdout"
        },
        {
          "output_type": "display_data",
          "data": {
            "application/vnd.colab-display-data+json": {
              "pip_warning": {
                "packages": [
                  "jupyter_client"
                ]
              }
            }
          },
          "metadata": {
            "tags": []
          }
        }
      ]
    },
    {
      "cell_type": "markdown",
      "metadata": {
        "id": "R8dfwQWxl1N6"
      },
      "source": [
        "## How to use Earth Engine with pydeck for 3D visualization\n",
        "\n",
        "### Requirements\n",
        "- [earthengine-api](https://github.com/google/earthengine-api): a Python client library for calling the Google Earth Engine API.\n",
        "- [pydeck](https://pydeck.gl/index.html): a WebGL-powered framework for visual exploratory data analysis of large datasets.\n",
        "- [pydeck-earthengine-layers](https://github.com/UnfoldedInc/earthengine-layers/tree/master/py): a pydekc wrapper for Google Earth Engine. For documentation please visit this [website](https://earthengine-layers.com/).\n",
        "- [Mapbox API key](https://pydeck.gl/installation.html#getting-a-mapbox-api-key): you will need this add basemap tiles to pydeck.\n",
        "\n",
        "### Installation\n",
        "\n",
        "- conda create -n deck python\n",
        "- conda activate deck\n",
        "- conda install mamba -c conda-forge\n",
        "- mamba install earthengine-api pydeck pydeck-earthengine-layers -c conda-forge\n",
        "- jupyter nbextension install --sys-prefix --symlink --overwrite --py pydeck\n",
        "- jupyter nbextension enable --sys-prefix --py pydeck"
      ]
    },
    {
      "cell_type": "markdown",
      "metadata": {
        "id": "IjWvAPBfl1N7"
      },
      "source": [
        "### Using ee.Image with pydeck"
      ]
    },
    {
      "cell_type": "code",
      "metadata": {
        "id": "0L-bdxacl1N8",
        "outputId": "4c5e4072-a31b-4c0f-ccab-31ff8f862b47",
        "colab": {
          "base_uri": "https://localhost:8080/",
          "height": 378
        }
      },
      "source": [
        "from pydeck_earthengine_layers import EarthEngineLayer\n",
        "import pydeck as pdk\n",
        "import ee\n",
        "\n",
        "# Initialize Earth Engine library\n",
        "try:\n",
        "    ee.Initialize()\n",
        "except Exception as e:\n",
        "    ee.Authenticate()\n",
        "    ee.Initialize()\n",
        "\n",
        "# Create an Earth Engine object\n",
        "image = ee.Image('CGIAR/SRTM90_V4')\n",
        "\n",
        "# Define Earth Engine visualization parameters\n",
        "vis_params = {\n",
        "    \"min\": 0, \n",
        "    \"max\": 4000,\n",
        "    'palette': ['006633', 'E5FFCC', '662A00', 'D8D8D8', 'F5F5F5']\n",
        "}\n",
        "\n",
        "# Create a pydeck EarthEngineLayer object, using the Earth Engine object and\n",
        "# desired visualization parameters\n",
        "ee_layer = EarthEngineLayer(image, vis_params)\n",
        "\n",
        "# Define the initial viewport for the map\n",
        "view_state = pdk.ViewState(latitude=37.7749295, longitude=-122.4194155, zoom=10, bearing=0, pitch=45)\n",
        "\n",
        "# Create a Deck instance, and display in Jupyter\n",
        "r = pdk.Deck(layers=[ee_layer], initial_view_state=view_state)\n",
        "r.show()"
      ],
      "execution_count": 3,
      "outputs": [
        {
          "output_type": "error",
          "ename": "ModuleNotFoundError",
          "evalue": "ignored",
          "traceback": [
            "\u001b[0;31m---------------------------------------------------------------------------\u001b[0m",
            "\u001b[0;31mModuleNotFoundError\u001b[0m                       Traceback (most recent call last)",
            "\u001b[0;32m<ipython-input-3-82c9cb4ebc05>\u001b[0m in \u001b[0;36m<module>\u001b[0;34m()\u001b[0m\n\u001b[0;32m----> 1\u001b[0;31m \u001b[0;32mfrom\u001b[0m \u001b[0mpydeck_earthengine_layers\u001b[0m \u001b[0;32mimport\u001b[0m \u001b[0mEarthEngineLayer\u001b[0m\u001b[0;34m\u001b[0m\u001b[0;34m\u001b[0m\u001b[0m\n\u001b[0m\u001b[1;32m      2\u001b[0m \u001b[0;32mimport\u001b[0m \u001b[0mpydeck\u001b[0m \u001b[0;32mas\u001b[0m \u001b[0mpdk\u001b[0m\u001b[0;34m\u001b[0m\u001b[0;34m\u001b[0m\u001b[0m\n\u001b[1;32m      3\u001b[0m \u001b[0;32mimport\u001b[0m \u001b[0mee\u001b[0m\u001b[0;34m\u001b[0m\u001b[0;34m\u001b[0m\u001b[0m\n\u001b[1;32m      4\u001b[0m \u001b[0;34m\u001b[0m\u001b[0m\n\u001b[1;32m      5\u001b[0m \u001b[0;31m# Initialize Earth Engine library\u001b[0m\u001b[0;34m\u001b[0m\u001b[0;34m\u001b[0m\u001b[0;34m\u001b[0m\u001b[0m\n",
            "\u001b[0;31mModuleNotFoundError\u001b[0m: No module named 'pydeck_earthengine_layers'",
            "",
            "\u001b[0;31m---------------------------------------------------------------------------\u001b[0;32m\nNOTE: If your import is failing due to a missing package, you can\nmanually install dependencies using either !pip or !apt.\n\nTo view examples of installing some common dependencies, click the\n\"Open Examples\" button below.\n\u001b[0;31m---------------------------------------------------------------------------\u001b[0m\n"
          ]
        }
      ]
    },
    {
      "cell_type": "markdown",
      "metadata": {
        "id": "iRu1HJqvl1N9"
      },
      "source": [
        "Adding multiple Earth Engine images"
      ]
    },
    {
      "cell_type": "code",
      "metadata": {
        "id": "6ID1Otvpl1N9"
      },
      "source": [
        "from pydeck_earthengine_layers import EarthEngineLayer\n",
        "import pydeck as pdk\n",
        "import ee\n",
        "\n",
        "# Initialize Earth Engine library\n",
        "try:\n",
        "    ee.Initialize()\n",
        "except Exception as e:\n",
        "    ee.Authenticate()\n",
        "    ee.Initialize()\n",
        "\n",
        "# Add Earth Engine dataset\n",
        "image = ee.Image('USGS/SRTMGL1_003')\n",
        "\n",
        "hillshade = ee.Terrain.hillshade(image)\n",
        "\n",
        "demRGB = image.visualize(**{\n",
        "    'min': 0,\n",
        "    'max': 4000,\n",
        "    'bands': ['elevation'],\n",
        "    'palette': ['006633', 'E5FFCC', '662A00', 'D8D8D8', 'F5F5F5'],\n",
        "    'opacity': 0.5\n",
        "})\n",
        "\n",
        "hillshadeRGB = hillshade.visualize(**{'bands': ['hillshade']})\n",
        "\n",
        "blend = hillshadeRGB.blend(demRGB)\n",
        "\n",
        "ee_layer = EarthEngineLayer(blend, {})\n",
        "\n",
        "# Define the initial viewport for the map\n",
        "view_state = pdk.ViewState(latitude=37.7749295, longitude=-122.4194155, zoom=10, bearing=0, pitch=45)\n",
        "\n",
        "# Create a Deck instance, and display in Jupyter\n",
        "r = pdk.Deck(layers=[ee_layer], initial_view_state=view_state)\n",
        "r.show()"
      ],
      "execution_count": null,
      "outputs": []
    },
    {
      "cell_type": "markdown",
      "metadata": {
        "id": "KgcUO8_Al1N-"
      },
      "source": [
        "### Using ee.ImageCollection with pydeck"
      ]
    },
    {
      "cell_type": "code",
      "metadata": {
        "id": "f5ijXc0Vl1N-"
      },
      "source": [
        "from pydeck_earthengine_layers import EarthEngineLayer\n",
        "import pydeck as pdk\n",
        "import ee\n",
        "\n",
        "# Initialize Earth Engine library\n",
        "try:\n",
        "    ee.Initialize()\n",
        "except Exception as e:\n",
        "    ee.Authenticate()\n",
        "    ee.Initialize()\n",
        "    \n",
        "# Initialize an ee.ImageColllection object referencing the Global Forecast System dataset\n",
        "image_collection = ee.ImageCollection('NOAA/GFS0P25')\n",
        "\n",
        "# Select images from December 22, 2018\n",
        "image_collection = image_collection.filterDate('2018-12-22', '2018-12-23')\n",
        "\n",
        "# Choose the first 24 images in the ImageCollection\n",
        "image_collection = image_collection.limit(24)\n",
        "\n",
        "# Select a single band to visualize\n",
        "image_collection = image_collection.select('temperature_2m_above_ground')\n",
        "\n",
        "# Style temperature values between -40C and 35C, \n",
        "# with lower values shades of blue, purple, and cyan, \n",
        "# and higher values shades of green, yellow, and red\n",
        "vis_params = {\n",
        "    'min': -40.0,\n",
        "    'max': 35.0,\n",
        "    'palette': ['blue', 'purple', 'cyan', 'green', 'yellow', 'red']\n",
        "};\n",
        "\n",
        "layer = EarthEngineLayer(\n",
        "    image_collection,\n",
        "    vis_params,\n",
        "    animate=True,\n",
        "    id=\"global_weather\")\n",
        "\n",
        "view_state = pdk.ViewState(latitude=36, longitude=10, zoom=1)\n",
        "r = pdk.Deck(\n",
        "    layers=[layer], \n",
        "    initial_view_state=view_state\n",
        ")\n",
        "\n",
        "# layer.visible = True\n",
        "# layer.opacity = 0.2\n",
        "\n",
        "r.show()"
      ],
      "execution_count": null,
      "outputs": []
    },
    {
      "cell_type": "markdown",
      "metadata": {
        "id": "WvEvdYihl1N_"
      },
      "source": [
        "### Using ee.FeatureCollection (points) with pydeck"
      ]
    },
    {
      "cell_type": "code",
      "metadata": {
        "id": "VtlWtyjcl1N_"
      },
      "source": [
        "from pydeck_earthengine_layers import EarthEngineLayer\n",
        "import pydeck as pdk\n",
        "import ee\n",
        "\n",
        "try:\n",
        "    ee.Initialize()\n",
        "except Exception as e:\n",
        "    ee.Authenticate()\n",
        "    ee.Initialize()\n",
        "    \n",
        "# Load the FeatureCollection\n",
        "table = ee.FeatureCollection(\"WRI/GPPD/power_plants\")\n",
        "\n",
        "# Create color palette\n",
        "fuel_color = ee.Dictionary({\n",
        "  'Coal': '000000',\n",
        "  'Oil': '593704',\n",
        "  'Gas': 'BC80BD',\n",
        "  'Hydro': '0565A6',\n",
        "  'Nuclear': 'E31A1C',\n",
        "  'Solar': 'FF7F00',\n",
        "  'Waste': '6A3D9A',\n",
        "  'Wind': '5CA2D1',\n",
        "  'Geothermal': 'FDBF6F',\n",
        "  'Biomass': '229A00'\n",
        "})\n",
        "\n",
        "# List of fuels to add to the map\n",
        "fuels = ['Coal', 'Oil', 'Gas', 'Hydro', 'Nuclear', 'Solar', 'Waste', 'Wind', 'Geothermal', 'Biomass']\n",
        "\n",
        "\n",
        "def add_style(point):\n",
        "    \"\"\"Computes size from capacity and color from fuel type.\n",
        "    \n",
        "    Args:\n",
        "        - point: (ee.Geometry.Point) A Point\n",
        "        \n",
        "    Returns:\n",
        "        (ee.Geometry.Point): Input point with added style dictionary\n",
        "    \"\"\"\n",
        "    size = ee.Number(point.get('capacitymw')).sqrt().divide(10).add(2)\n",
        "    color = fuel_color.get(point.get('fuel1'))\n",
        "    return point.set('styleProperty', ee.Dictionary({'pointSize': size, 'color': color}))\n",
        "\n",
        "# Make a FeatureCollection out of the power plant data table\n",
        "pp = ee.FeatureCollection(table).map(add_style)\n",
        "\n",
        "# Create a layer for each fuel type\n",
        "layers = []\n",
        "for fuel in fuels:\n",
        "    layer = EarthEngineLayer(\n",
        "        pp.filter(ee.Filter.eq('fuel1', fuel)).style(styleProperty='styleProperty', neighborhood=50),\n",
        "        id=fuel,\n",
        "        opacity=0.65,\n",
        "    )\n",
        "    layers.append(layer)\n",
        "    \n",
        "view_state = pdk.ViewState(latitude=36, longitude=-53, zoom=3)\n",
        "\n",
        "r = pdk.Deck(\n",
        "    layers=layers, \n",
        "    initial_view_state=view_state\n",
        ")\n",
        "r.show()"
      ],
      "execution_count": null,
      "outputs": []
    },
    {
      "cell_type": "markdown",
      "metadata": {
        "id": "7YzvVEWTl1OA"
      },
      "source": [
        "### Using ee.FeatureCollection (lines) with pydeck"
      ]
    },
    {
      "cell_type": "code",
      "metadata": {
        "id": "lrt0PUtOl1OA"
      },
      "source": [
        "from pydeck_earthengine_layers import EarthEngineLayer\n",
        "import pydeck as pdk\n",
        "import ee\n",
        "\n",
        "try:\n",
        "    ee.Initialize()\n",
        "except Exception as e:\n",
        "    ee.Authenticate()\n",
        "    ee.Initialize()\n",
        "    \n",
        "# Hurricane tracks and points for 2017.\n",
        "hurricanes = ee.FeatureCollection('NOAA/NHC/HURDAT2/atlantic')\n",
        "\n",
        "year = '2017'\n",
        "points = hurricanes.filter(ee.Filter.date(ee.Date(year).getRange('year')))\n",
        "\n",
        "# Find all of the hurricane ids.\n",
        "def get_id(point):\n",
        "    return ee.Feature(point).get('id')\n",
        "storm_ids = points.toList(1000).map(get_id).distinct()\n",
        "\n",
        "# Create a line for each hurricane.\n",
        "def create_line(storm_id):\n",
        "    pts = points.filter(ee.Filter.eq('id', ee.String(storm_id)))\n",
        "    pts = pts.sort('system:time_start')\n",
        "    line = ee.Geometry.LineString(pts.geometry().coordinates())\n",
        "    feature = ee.Feature(line)\n",
        "    return feature.set('id', storm_id)\n",
        "\n",
        "lines = ee.FeatureCollection(storm_ids.map(create_line))\n",
        "\n",
        "\n",
        "lines_layer = EarthEngineLayer(\n",
        "    lines,\n",
        "    {'color': 'red'},\n",
        "    id=\"tracks\",\n",
        ")\n",
        "\n",
        "points_layer = EarthEngineLayer(\n",
        "    points,\n",
        "    {'color': 'green'},\n",
        "    id=\"points\",\n",
        ")\n",
        "\n",
        "\n",
        "view_state = pdk.ViewState(latitude=36, longitude=-53, zoom=3)\n",
        "r = pdk.Deck(\n",
        "    layers=[points_layer, lines_layer], \n",
        "    initial_view_state=view_state\n",
        ")\n",
        "r.show()    "
      ],
      "execution_count": null,
      "outputs": []
    },
    {
      "cell_type": "code",
      "metadata": {
        "id": "Ds657GhHl1OB"
      },
      "source": [
        "from pydeck_earthengine_layers import EarthEngineLayer\n",
        "import pydeck as pdk\n",
        "import ee\n",
        "\n",
        "try:\n",
        "    ee.Initialize()\n",
        "except Exception as e:\n",
        "    ee.Authenticate()\n",
        "    ee.Initialize()\n",
        "    \n",
        "dataset = ee.FeatureCollection('FAO/GAUL/2015/level0')\n",
        "\n",
        "countries = dataset.style(\n",
        "    fillColor='b5ffb4',\n",
        "    color='00909F',\n",
        "    width=3\n",
        ")\n",
        "\n",
        "layer = EarthEngineLayer(countries, id=\"international_boundaries\")\n",
        "view_state = pdk.ViewState(latitude=36, longitude=10, zoom=3)\n",
        "r = pdk.Deck(\n",
        "    layers=[layer], \n",
        "    initial_view_state=view_state\n",
        ")\n",
        "r.show()"
      ],
      "execution_count": null,
      "outputs": []
    }
  ]
}