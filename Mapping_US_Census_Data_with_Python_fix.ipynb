{
  "nbformat": 4,
  "nbformat_minor": 0,
  "metadata": {
    "colab": {
      "name": "Mapping US Census Data with Python_fix.ipynb",
      "provenance": [],
      "collapsed_sections": [],
      "authorship_tag": "ABX9TyOdkczbuOyq3PKyiX9A74SJ",
      "include_colab_link": true
    },
    "kernelspec": {
      "name": "python3",
      "display_name": "Python 3"
    }
  },
  "cells": [
    {
      "cell_type": "markdown",
      "metadata": {
        "id": "view-in-github",
        "colab_type": "text"
      },
      "source": [
        "<a href=\"https://colab.research.google.com/github/datamongerbonny/DS_Portfolio/blob/master/Mapping_US_Census_Data_with_Python_fix.ipynb\" target=\"_parent\"><img src=\"https://colab.research.google.com/assets/colab-badge.svg\" alt=\"Open In Colab\"/></a>"
      ]
    },
    {
      "cell_type": "code",
      "metadata": {
        "colab": {
          "base_uri": "https://localhost:8080/"
        },
        "id": "4xkqwm1gOmsD",
        "outputId": "f84fb054-17f6-4798-e13c-eb012a441722"
      },
      "source": [
        "pip install plotly-geo"
      ],
      "execution_count": 1,
      "outputs": [
        {
          "output_type": "stream",
          "text": [
            "Requirement already satisfied: plotly-geo in /usr/local/lib/python3.7/dist-packages (1.0.0)\n"
          ],
          "name": "stdout"
        }
      ]
    },
    {
      "cell_type": "code",
      "metadata": {
        "colab": {
          "base_uri": "https://localhost:8080/"
        },
        "id": "FZexSGrJfYGR",
        "outputId": "1216c9ca-3bae-4a9a-e90c-9bc16e3e1512"
      },
      "source": [
        "!pip install geopandas\n",
        "!pip install pyshp\n",
        "!pip install shapely"
      ],
      "execution_count": 2,
      "outputs": [
        {
          "output_type": "stream",
          "text": [
            "Requirement already satisfied: geopandas in /usr/local/lib/python3.7/dist-packages (0.3.0)\n",
            "Requirement already satisfied: descartes in /usr/local/lib/python3.7/dist-packages (from geopandas) (1.1.0)\n",
            "Requirement already satisfied: pandas in /usr/local/lib/python3.7/dist-packages (from geopandas) (1.0.1)\n",
            "Requirement already satisfied: shapely in /usr/local/lib/python3.7/dist-packages (from geopandas) (1.6.3)\n",
            "Requirement already satisfied: fiona in /usr/local/lib/python3.7/dist-packages (from geopandas) (1.8.18)\n",
            "Requirement already satisfied: pyproj in /usr/local/lib/python3.7/dist-packages (from geopandas) (3.0.1)\n",
            "Requirement already satisfied: matplotlib in /usr/local/lib/python3.7/dist-packages (from descartes->geopandas) (3.2.2)\n",
            "Requirement already satisfied: pytz>=2017.2 in /usr/local/lib/python3.7/dist-packages (from pandas->geopandas) (2018.9)\n",
            "Requirement already satisfied: numpy>=1.13.3 in /usr/local/lib/python3.7/dist-packages (from pandas->geopandas) (1.19.5)\n",
            "Requirement already satisfied: python-dateutil>=2.6.1 in /usr/local/lib/python3.7/dist-packages (from pandas->geopandas) (2.8.1)\n",
            "Requirement already satisfied: cligj>=0.5 in /usr/local/lib/python3.7/dist-packages (from fiona->geopandas) (0.7.1)\n",
            "Requirement already satisfied: click<8,>=4.0 in /usr/local/lib/python3.7/dist-packages (from fiona->geopandas) (7.1.2)\n",
            "Requirement already satisfied: certifi in /usr/local/lib/python3.7/dist-packages (from fiona->geopandas) (2020.12.5)\n",
            "Requirement already satisfied: click-plugins>=1.0 in /usr/local/lib/python3.7/dist-packages (from fiona->geopandas) (1.1.1)\n",
            "Requirement already satisfied: attrs>=17 in /usr/local/lib/python3.7/dist-packages (from fiona->geopandas) (20.3.0)\n",
            "Requirement already satisfied: six>=1.7 in /usr/local/lib/python3.7/dist-packages (from fiona->geopandas) (1.15.0)\n",
            "Requirement already satisfied: munch in /usr/local/lib/python3.7/dist-packages (from fiona->geopandas) (2.5.0)\n",
            "Requirement already satisfied: pyparsing!=2.0.4,!=2.1.2,!=2.1.6,>=2.0.1 in /usr/local/lib/python3.7/dist-packages (from matplotlib->descartes->geopandas) (2.4.7)\n",
            "Requirement already satisfied: cycler>=0.10 in /usr/local/lib/python3.7/dist-packages (from matplotlib->descartes->geopandas) (0.10.0)\n",
            "Requirement already satisfied: kiwisolver>=1.0.1 in /usr/local/lib/python3.7/dist-packages (from matplotlib->descartes->geopandas) (1.3.1)\n",
            "Requirement already satisfied: pyshp in /usr/local/lib/python3.7/dist-packages (1.2.10)\n",
            "Requirement already satisfied: shapely in /usr/local/lib/python3.7/dist-packages (1.6.3)\n"
          ],
          "name": "stdout"
        }
      ]
    },
    {
      "cell_type": "code",
      "metadata": {
        "colab": {
          "base_uri": "https://localhost:8080/"
        },
        "id": "XF7tjtBiO06R",
        "outputId": "4b9f78a9-af75-4152-b4d8-7d17f5e86af2"
      },
      "source": [
        "import pandas as pd\n",
        "!pip install CensusData\n",
        "\n"
      ],
      "execution_count": 3,
      "outputs": [
        {
          "output_type": "stream",
          "text": [
            "Requirement already satisfied: CensusData in /usr/local/lib/python3.7/dist-packages (1.12)\n",
            "Requirement already satisfied: requests in /usr/local/lib/python3.7/dist-packages (from CensusData) (2.23.0)\n",
            "Requirement already satisfied: pandas in /usr/local/lib/python3.7/dist-packages (from CensusData) (1.0.1)\n",
            "Requirement already satisfied: certifi>=2017.4.17 in /usr/local/lib/python3.7/dist-packages (from requests->CensusData) (2020.12.5)\n",
            "Requirement already satisfied: idna<3,>=2.5 in /usr/local/lib/python3.7/dist-packages (from requests->CensusData) (2.10)\n",
            "Requirement already satisfied: urllib3!=1.25.0,!=1.25.1,<1.26,>=1.21.1 in /usr/local/lib/python3.7/dist-packages (from requests->CensusData) (1.24.3)\n",
            "Requirement already satisfied: chardet<4,>=3.0.2 in /usr/local/lib/python3.7/dist-packages (from requests->CensusData) (3.0.4)\n",
            "Requirement already satisfied: pytz>=2017.2 in /usr/local/lib/python3.7/dist-packages (from pandas->CensusData) (2018.9)\n",
            "Requirement already satisfied: python-dateutil>=2.6.1 in /usr/local/lib/python3.7/dist-packages (from pandas->CensusData) (2.8.1)\n",
            "Requirement already satisfied: numpy>=1.13.3 in /usr/local/lib/python3.7/dist-packages (from pandas->CensusData) (1.19.5)\n",
            "Requirement already satisfied: six>=1.5 in /usr/local/lib/python3.7/dist-packages (from python-dateutil>=2.6.1->pandas->CensusData) (1.15.0)\n"
          ],
          "name": "stdout"
        }
      ]
    },
    {
      "cell_type": "code",
      "metadata": {
        "colab": {
          "base_uri": "https://localhost:8080/"
        },
        "id": "i3sJYl_KaMxf",
        "outputId": "0cf911f7-2b9e-44ae-d5f3-00cf0991da26"
      },
      "source": [
        "pip install us"
      ],
      "execution_count": 4,
      "outputs": [
        {
          "output_type": "stream",
          "text": [
            "Requirement already satisfied: us in /usr/local/lib/python3.7/dist-packages (2.0.2)\n",
            "Requirement already satisfied: jellyfish==0.6.1 in /usr/local/lib/python3.7/dist-packages (from us) (0.6.1)\n"
          ],
          "name": "stdout"
        }
      ]
    },
    {
      "cell_type": "code",
      "metadata": {
        "id": "Pgbdf6ygZ8zm"
      },
      "source": [
        "import censusdata\n",
        "from tabulate import tabulate"
      ],
      "execution_count": 5,
      "outputs": []
    },
    {
      "cell_type": "code",
      "metadata": {
        "id": "PzcjhchKXGvp"
      },
      "source": [
        "df = censusdata.download('acs5', \n",
        "           2015,\n",
        "           censusdata.censusgeo([('state', '36'), ('county', '*')]),\n",
        "           ['B08301_001E', 'B08301_010E'])\n"
      ],
      "execution_count": 6,
      "outputs": []
    },
    {
      "cell_type": "code",
      "metadata": {
        "colab": {
          "base_uri": "https://localhost:8080/"
        },
        "id": "l_L3qV_aa3PX",
        "outputId": "5a521c18-7106-47ec-a9ab-800d782cd3aa"
      },
      "source": [
        "print(tabulate(df, headers='keys', tablefmt='psql'))"
      ],
      "execution_count": 7,
      "outputs": [
        {
          "output_type": "stream",
          "text": [
            "+-------------------------------------------------------------------------+------------------+---------------+\n",
            "|                                                                         |      B08301_001E |   B08301_010E |\n",
            "|-------------------------------------------------------------------------+------------------+---------------|\n",
            "| Queens County, New York: Summary level: 050, state:36> county:081       |      1.07675e+06 |        562857 |\n",
            "| Rensselaer County, New York: Summary level: 050, state:36> county:083   |  78398           |          1757 |\n",
            "| Richmond County, New York: Summary level: 050, state:36> county:085     | 205922           |         61319 |\n",
            "| Rockland County, New York: Summary level: 050, state:36> county:087     | 142565           |         12292 |\n",
            "| St. Lawrence County, New York: Summary level: 050, state:36> county:089 |  43703           |           188 |\n",
            "| Saratoga County, New York: Summary level: 050, state:36> county:091     | 113190           |           969 |\n",
            "| Schenectady County, New York: Summary level: 050, state:36> county:093  |  72549           |          2909 |\n",
            "| Schoharie County, New York: Summary level: 050, state:36> county:095    |  13742           |           200 |\n",
            "| Schuyler County, New York: Summary level: 050, state:36> county:097     |   7988           |            65 |\n",
            "| Seneca County, New York: Summary level: 050, state:36> county:099       |  15119           |            79 |\n",
            "| Steuben County, New York: Summary level: 050, state:36> county:101      |  42181           |           284 |\n",
            "| Suffolk County, New York: Summary level: 050, state:36> county:103      | 721417           |         47169 |\n",
            "| Sullivan County, New York: Summary level: 050, state:36> county:105     |  31136           |           624 |\n",
            "| Tioga County, New York: Summary level: 050, state:36> county:107        |  23484           |           124 |\n",
            "| Tompkins County, New York: Summary level: 050, state:36> county:109     |  47735           |          2994 |\n",
            "| Ulster County, New York: Summary level: 050, state:36> county:111       |  83332           |          1981 |\n",
            "| Warren County, New York: Summary level: 050, state:36> county:113       |  31161           |           318 |\n",
            "| Washington County, New York: Summary level: 050, state:36> county:115   |  27979           |           240 |\n",
            "| Wayne County, New York: Summary level: 050, state:36> county:117        |  42277           |           283 |\n",
            "| Westchester County, New York: Summary level: 050, state:36> county:119  | 454471           |         98927 |\n",
            "| Wyoming County, New York: Summary level: 050, state:36> county:121      |  18132           |            67 |\n",
            "| Yates County, New York: Summary level: 050, state:36> county:123        |  11127           |            32 |\n",
            "| Albany County, New York: Summary level: 050, state:36> county:001       | 152554           |          8735 |\n",
            "| Allegany County, New York: Summary level: 050, state:36> county:003     |  19804           |           122 |\n",
            "| Bronx County, New York: Summary level: 050, state:36> county:005        | 547961           |        327310 |\n",
            "| Broome County, New York: Summary level: 050, state:36> county:007       |  86839           |          2882 |\n",
            "| Cattaraugus County, New York: Summary level: 050, state:36> county:009  |  33553           |           166 |\n",
            "| Cayuga County, New York: Summary level: 050, state:36> county:011       |  36043           |           331 |\n",
            "| Chautauqua County, New York: Summary level: 050, state:36> county:013   |  56234           |           187 |\n",
            "| Chemung County, New York: Summary level: 050, state:36> county:015      |  37609           |           769 |\n",
            "| Chenango County, New York: Summary level: 050, state:36> county:017     |  21111           |           138 |\n",
            "| Clinton County, New York: Summary level: 050, state:36> county:019      |  34650           |           211 |\n",
            "| Columbia County, New York: Summary level: 050, state:36> county:021     |  29219           |           672 |\n",
            "| Cortland County, New York: Summary level: 050, state:36> county:023     |  23494           |           194 |\n",
            "| Delaware County, New York: Summary level: 050, state:36> county:025     |  19321           |           281 |\n",
            "| Dutchess County, New York: Summary level: 050, state:36> county:027     | 140195           |          7041 |\n",
            "| Erie County, New York: Summary level: 050, state:36> county:029         | 431646           |         15964 |\n",
            "| Essex County, New York: Summary level: 050, state:36> county:031        |  17378           |           124 |\n",
            "| Franklin County, New York: Summary level: 050, state:36> county:033     |  19534           |           136 |\n",
            "| Fulton County, New York: Summary level: 050, state:36> county:035       |  23546           |           141 |\n",
            "| Genesee County, New York: Summary level: 050, state:36> county:037      |  29146           |           118 |\n",
            "| Greene County, New York: Summary level: 050, state:36> county:039       |  19278           |           182 |\n",
            "| Hamilton County, New York: Summary level: 050, state:36> county:041     |   1809           |             3 |\n",
            "| Herkimer County, New York: Summary level: 050, state:36> county:043     |  28326           |           237 |\n",
            "| Jefferson County, New York: Summary level: 050, state:36> county:045    |  53914           |           199 |\n",
            "| Kings County, New York: Summary level: 050, state:36> county:047        |      1.1422e+06  |        705103 |\n",
            "| Lewis County, New York: Summary level: 050, state:36> county:049        |  11682           |            21 |\n",
            "| Livingston County, New York: Summary level: 050, state:36> county:051   |  29457           |           138 |\n",
            "| Madison County, New York: Summary level: 050, state:36> county:053      |  32442           |           120 |\n",
            "| Monroe County, New York: Summary level: 050, state:36> county:055       | 353198           |         10257 |\n",
            "| Montgomery County, New York: Summary level: 050, state:36> county:057   |  20913           |           277 |\n",
            "| Nassau County, New York: Summary level: 050, state:36> county:059       | 653645           |        106362 |\n",
            "| New York County, New York: Summary level: 050, state:36> county:061     | 867298           |        513185 |\n",
            "| Niagara County, New York: Summary level: 050, state:36> county:063      |  98802           |          1171 |\n",
            "| Oneida County, New York: Summary level: 050, state:36> county:065       | 101472           |          1132 |\n",
            "| Onondaga County, New York: Summary level: 050, state:36> county:067     | 217113           |          6897 |\n",
            "| Ontario County, New York: Summary level: 050, state:36> county:069      |  52350           |           487 |\n",
            "| Orange County, New York: Summary level: 050, state:36> county:071       | 171308           |          8807 |\n",
            "| Orleans County, New York: Summary level: 050, state:36> county:073      |  16790           |           153 |\n",
            "| Oswego County, New York: Summary level: 050, state:36> county:075       |  50768           |           402 |\n",
            "| Otsego County, New York: Summary level: 050, state:36> county:077       |  27714           |           510 |\n",
            "| Putnam County, New York: Summary level: 050, state:36> county:079       |  50308           |          4196 |\n",
            "+-------------------------------------------------------------------------+------------------+---------------+\n"
          ],
          "name": "stdout"
        }
      ]
    },
    {
      "cell_type": "code",
      "metadata": {
        "id": "QvGNpmUkco-a"
      },
      "source": [
        "column_names = ['total_transpo', 'total_public_transpo']\n",
        "df.columns = column_names"
      ],
      "execution_count": 8,
      "outputs": []
    },
    {
      "cell_type": "code",
      "metadata": {
        "id": "8NOqa49Lb7Vk"
      },
      "source": [
        "df['percent_public_transpo'] = df.apply(\n",
        "   lambda row: row['total_public_transpo']/row['total_transpo'], \n",
        "   axis = 1)"
      ],
      "execution_count": 9,
      "outputs": []
    },
    {
      "cell_type": "code",
      "metadata": {
        "id": "OD-vo6zHbBiY"
      },
      "source": [
        "new_indices = []\n",
        "county_names = []\n",
        "for index in df.index.tolist():\n",
        "        new_index = index.geo[0][1] + index.geo[1][1]\n",
        "        new_indices.append(new_index)\n",
        "        county_name = index.name.split(',')[0]\n",
        "        county_names.append(county_name)\n",
        "df.index = new_indices\n",
        "df['county_name'] = county_names"
      ],
      "execution_count": 10,
      "outputs": []
    },
    {
      "cell_type": "code",
      "metadata": {
        "colab": {
          "base_uri": "https://localhost:8080/"
        },
        "id": "AazczmbqbJ3x",
        "outputId": "c5881452-072e-4f4b-c069-86fb58ca205f"
      },
      "source": [
        "print(tabulate(df, headers='keys', tablefmt='psql'))"
      ],
      "execution_count": 11,
      "outputs": [
        {
          "output_type": "stream",
          "text": [
            "+-------+-----------------+------------------------+--------------------------+---------------------+\n",
            "|       |   total_transpo |   total_public_transpo |   percent_public_transpo | county_name         |\n",
            "|-------+-----------------+------------------------+--------------------------+---------------------|\n",
            "| 36081 |         1076754 |                 562857 |               0.522735   | Queens County       |\n",
            "| 36083 |           78398 |                   1757 |               0.0224113  | Rensselaer County   |\n",
            "| 36085 |          205922 |                  61319 |               0.297778   | Richmond County     |\n",
            "| 36087 |          142565 |                  12292 |               0.0862203  | Rockland County     |\n",
            "| 36089 |           43703 |                    188 |               0.00430176 | St. Lawrence County |\n",
            "| 36091 |          113190 |                    969 |               0.00856083 | Saratoga County     |\n",
            "| 36093 |           72549 |                   2909 |               0.040097   | Schenectady County  |\n",
            "| 36095 |           13742 |                    200 |               0.0145539  | Schoharie County    |\n",
            "| 36097 |            7988 |                     65 |               0.00813721 | Schuyler County     |\n",
            "| 36099 |           15119 |                     79 |               0.00522521 | Seneca County       |\n",
            "| 36101 |           42181 |                    284 |               0.00673289 | Steuben County      |\n",
            "| 36103 |          721417 |                  47169 |               0.0653838  | Suffolk County      |\n",
            "| 36105 |           31136 |                    624 |               0.0200411  | Sullivan County     |\n",
            "| 36107 |           23484 |                    124 |               0.00528019 | Tioga County        |\n",
            "| 36109 |           47735 |                   2994 |               0.0627213  | Tompkins County     |\n",
            "| 36111 |           83332 |                   1981 |               0.0237724  | Ulster County       |\n",
            "| 36113 |           31161 |                    318 |               0.0102051  | Warren County       |\n",
            "| 36115 |           27979 |                    240 |               0.00857786 | Washington County   |\n",
            "| 36117 |           42277 |                    283 |               0.00669395 | Wayne County        |\n",
            "| 36119 |          454471 |                  98927 |               0.217675   | Westchester County  |\n",
            "| 36121 |           18132 |                     67 |               0.00369512 | Wyoming County      |\n",
            "| 36123 |           11127 |                     32 |               0.00287589 | Yates County        |\n",
            "| 36001 |          152554 |                   8735 |               0.0572584  | Albany County       |\n",
            "| 36003 |           19804 |                    122 |               0.00616037 | Allegany County     |\n",
            "| 36005 |          547961 |                 327310 |               0.597324   | Bronx County        |\n",
            "| 36007 |           86839 |                   2882 |               0.0331879  | Broome County       |\n",
            "| 36009 |           33553 |                    166 |               0.0049474  | Cattaraugus County  |\n",
            "| 36011 |           36043 |                    331 |               0.00918348 | Cayuga County       |\n",
            "| 36013 |           56234 |                    187 |               0.00332539 | Chautauqua County   |\n",
            "| 36015 |           37609 |                    769 |               0.0204472  | Chemung County      |\n",
            "| 36017 |           21111 |                    138 |               0.00653688 | Chenango County     |\n",
            "| 36019 |           34650 |                    211 |               0.00608947 | Clinton County      |\n",
            "| 36021 |           29219 |                    672 |               0.0229987  | Columbia County     |\n",
            "| 36023 |           23494 |                    194 |               0.00825743 | Cortland County     |\n",
            "| 36025 |           19321 |                    281 |               0.0145438  | Delaware County     |\n",
            "| 36027 |          140195 |                   7041 |               0.0502229  | Dutchess County     |\n",
            "| 36029 |          431646 |                  15964 |               0.036984   | Erie County         |\n",
            "| 36031 |           17378 |                    124 |               0.00713546 | Essex County        |\n",
            "| 36033 |           19534 |                    136 |               0.00696222 | Franklin County     |\n",
            "| 36035 |           23546 |                    141 |               0.00598828 | Fulton County       |\n",
            "| 36037 |           29146 |                    118 |               0.00404858 | Genesee County      |\n",
            "| 36039 |           19278 |                    182 |               0.00944081 | Greene County       |\n",
            "| 36041 |            1809 |                      3 |               0.00165837 | Hamilton County     |\n",
            "| 36043 |           28326 |                    237 |               0.00836687 | Herkimer County     |\n",
            "| 36045 |           53914 |                    199 |               0.00369106 | Jefferson County    |\n",
            "| 36047 |         1142200 |                 705103 |               0.61732    | Kings County        |\n",
            "| 36049 |           11682 |                     21 |               0.00179764 | Lewis County        |\n",
            "| 36051 |           29457 |                    138 |               0.00468479 | Livingston County   |\n",
            "| 36053 |           32442 |                    120 |               0.00369891 | Madison County      |\n",
            "| 36055 |          353198 |                  10257 |               0.0290404  | Monroe County       |\n",
            "| 36057 |           20913 |                    277 |               0.0132453  | Montgomery County   |\n",
            "| 36059 |          653645 |                 106362 |               0.162721   | Nassau County       |\n",
            "| 36061 |          867298 |                 513185 |               0.591706   | New York County     |\n",
            "| 36063 |           98802 |                   1171 |               0.011852   | Niagara County      |\n",
            "| 36065 |          101472 |                   1132 |               0.0111558  | Oneida County       |\n",
            "| 36067 |          217113 |                   6897 |               0.0317669  | Onondaga County     |\n",
            "| 36069 |           52350 |                    487 |               0.00930277 | Ontario County      |\n",
            "| 36071 |          171308 |                   8807 |               0.0514103  | Orange County       |\n",
            "| 36073 |           16790 |                    153 |               0.00911257 | Orleans County      |\n",
            "| 36075 |           50768 |                    402 |               0.00791837 | Oswego County       |\n",
            "| 36077 |           27714 |                    510 |               0.0184023  | Otsego County       |\n",
            "| 36079 |           50308 |                   4196 |               0.0834062  | Putnam County       |\n",
            "+-------+-----------------+------------------------+--------------------------+---------------------+\n"
          ],
          "name": "stdout"
        }
      ]
    },
    {
      "cell_type": "code",
      "metadata": {
        "id": "tZRKCPIEbQWs"
      },
      "source": [
        "import plotly.figure_factory as ff"
      ],
      "execution_count": 12,
      "outputs": []
    },
    {
      "cell_type": "code",
      "metadata": {
        "colab": {
          "base_uri": "https://localhost:8080/"
        },
        "id": "nDb95aR3dIkE",
        "outputId": "20c63efe-cc97-4e50-edcb-bb606f5f7c82"
      },
      "source": [
        "!pip install geopandas\n",
        "!pip install pyshp\n",
        "!pip install shapely\n"
      ],
      "execution_count": 13,
      "outputs": [
        {
          "output_type": "stream",
          "text": [
            "Requirement already satisfied: geopandas in /usr/local/lib/python3.7/dist-packages (0.3.0)\n",
            "Requirement already satisfied: pandas in /usr/local/lib/python3.7/dist-packages (from geopandas) (1.0.1)\n",
            "Requirement already satisfied: pyproj in /usr/local/lib/python3.7/dist-packages (from geopandas) (3.0.1)\n",
            "Requirement already satisfied: fiona in /usr/local/lib/python3.7/dist-packages (from geopandas) (1.8.18)\n",
            "Requirement already satisfied: descartes in /usr/local/lib/python3.7/dist-packages (from geopandas) (1.1.0)\n",
            "Requirement already satisfied: shapely in /usr/local/lib/python3.7/dist-packages (from geopandas) (1.6.3)\n",
            "Requirement already satisfied: numpy>=1.13.3 in /usr/local/lib/python3.7/dist-packages (from pandas->geopandas) (1.19.5)\n",
            "Requirement already satisfied: pytz>=2017.2 in /usr/local/lib/python3.7/dist-packages (from pandas->geopandas) (2018.9)\n",
            "Requirement already satisfied: python-dateutil>=2.6.1 in /usr/local/lib/python3.7/dist-packages (from pandas->geopandas) (2.8.1)\n",
            "Requirement already satisfied: certifi in /usr/local/lib/python3.7/dist-packages (from pyproj->geopandas) (2020.12.5)\n",
            "Requirement already satisfied: attrs>=17 in /usr/local/lib/python3.7/dist-packages (from fiona->geopandas) (20.3.0)\n",
            "Requirement already satisfied: click<8,>=4.0 in /usr/local/lib/python3.7/dist-packages (from fiona->geopandas) (7.1.2)\n",
            "Requirement already satisfied: six>=1.7 in /usr/local/lib/python3.7/dist-packages (from fiona->geopandas) (1.15.0)\n",
            "Requirement already satisfied: cligj>=0.5 in /usr/local/lib/python3.7/dist-packages (from fiona->geopandas) (0.7.1)\n",
            "Requirement already satisfied: click-plugins>=1.0 in /usr/local/lib/python3.7/dist-packages (from fiona->geopandas) (1.1.1)\n",
            "Requirement already satisfied: munch in /usr/local/lib/python3.7/dist-packages (from fiona->geopandas) (2.5.0)\n",
            "Requirement already satisfied: matplotlib in /usr/local/lib/python3.7/dist-packages (from descartes->geopandas) (3.2.2)\n",
            "Requirement already satisfied: cycler>=0.10 in /usr/local/lib/python3.7/dist-packages (from matplotlib->descartes->geopandas) (0.10.0)\n",
            "Requirement already satisfied: pyparsing!=2.0.4,!=2.1.2,!=2.1.6,>=2.0.1 in /usr/local/lib/python3.7/dist-packages (from matplotlib->descartes->geopandas) (2.4.7)\n",
            "Requirement already satisfied: kiwisolver>=1.0.1 in /usr/local/lib/python3.7/dist-packages (from matplotlib->descartes->geopandas) (1.3.1)\n",
            "Requirement already satisfied: pyshp in /usr/local/lib/python3.7/dist-packages (1.2.10)\n",
            "Requirement already satisfied: shapely in /usr/local/lib/python3.7/dist-packages (1.6.3)\n"
          ],
          "name": "stdout"
        }
      ]
    },
    {
      "cell_type": "code",
      "metadata": {
        "colab": {
          "base_uri": "https://localhost:8080/"
        },
        "id": "nFBd07yYnhUi",
        "outputId": "f94ac3de-e2df-4037-fdb9-88c09a74080f"
      },
      "source": [
        "!pip install chart_studio\n",
        "import chart_studio.plotly as py\n",
        "import plotly.graph_objs as go\n",
        "\n",
        "import numpy as np\n",
        "import pandas as pd"
      ],
      "execution_count": 14,
      "outputs": [
        {
          "output_type": "stream",
          "text": [
            "Requirement already satisfied: chart_studio in /usr/local/lib/python3.7/dist-packages (1.1.0)\n",
            "Requirement already satisfied: retrying>=1.3.3 in /usr/local/lib/python3.7/dist-packages (from chart_studio) (1.3.3)\n",
            "Requirement already satisfied: plotly in /usr/local/lib/python3.7/dist-packages (from chart_studio) (4.4.1)\n",
            "Requirement already satisfied: requests in /usr/local/lib/python3.7/dist-packages (from chart_studio) (2.23.0)\n",
            "Requirement already satisfied: six in /usr/local/lib/python3.7/dist-packages (from chart_studio) (1.15.0)\n",
            "Requirement already satisfied: chardet<4,>=3.0.2 in /usr/local/lib/python3.7/dist-packages (from requests->chart_studio) (3.0.4)\n",
            "Requirement already satisfied: urllib3!=1.25.0,!=1.25.1,<1.26,>=1.21.1 in /usr/local/lib/python3.7/dist-packages (from requests->chart_studio) (1.24.3)\n",
            "Requirement already satisfied: certifi>=2017.4.17 in /usr/local/lib/python3.7/dist-packages (from requests->chart_studio) (2020.12.5)\n",
            "Requirement already satisfied: idna<3,>=2.5 in /usr/local/lib/python3.7/dist-packages (from requests->chart_studio) (2.10)\n"
          ],
          "name": "stdout"
        }
      ]
    },
    {
      "cell_type": "code",
      "metadata": {
        "colab": {
          "base_uri": "https://localhost:8080/",
          "height": 1000
        },
        "id": "LPhekZI8ojqM",
        "outputId": "72354b41-0138-43fc-aca1-03dc6968748c"
      },
      "source": [
        "# import necessary libraries\n",
        "!pip install geopandas\n",
        "!pip install numpy\n",
        "!pip install pandas==1.0.1\n",
        "!pip install fiona\n",
        "!pip install pyproj\n",
        "!pip install pygeos\n",
        "import geopandas\n",
        "import shapely\n",
        "import shapefile\n",
        "import plotly\n",
        "from plotly.figure_factory._county_choropleth import create_choropleth\n",
        "import xlrd\n",
        "# Check your version\n",
        "print(plotly.__version__, geopandas.__version__,shapely.__version__,shapefile.__version__)\n",
        "\n",
        "\n",
        "fig = ff.create_choropleth(fips=df.index, \n",
        "                           scope=['New York'],\n",
        "                           values=df.percent_public_transpo, \n",
        "                           title='NY Public Transit Use by County', \n",
        "                           legend_title='% Public Transit')\n",
        "fig.layout.template = None\n",
        "fig.show()"
      ],
      "execution_count": 17,
      "outputs": [
        {
          "output_type": "stream",
          "text": [
            "Requirement already satisfied: geopandas in /usr/local/lib/python3.7/dist-packages (0.3.0)\n",
            "Requirement already satisfied: descartes in /usr/local/lib/python3.7/dist-packages (from geopandas) (1.1.0)\n",
            "Requirement already satisfied: fiona in /usr/local/lib/python3.7/dist-packages (from geopandas) (1.8.18)\n",
            "Requirement already satisfied: shapely in /usr/local/lib/python3.7/dist-packages (from geopandas) (1.6.3)\n",
            "Requirement already satisfied: pandas in /usr/local/lib/python3.7/dist-packages (from geopandas) (1.0.1)\n",
            "Requirement already satisfied: pyproj in /usr/local/lib/python3.7/dist-packages (from geopandas) (3.0.1)\n",
            "Requirement already satisfied: matplotlib in /usr/local/lib/python3.7/dist-packages (from descartes->geopandas) (3.2.2)\n",
            "Requirement already satisfied: cligj>=0.5 in /usr/local/lib/python3.7/dist-packages (from fiona->geopandas) (0.7.1)\n",
            "Requirement already satisfied: click-plugins>=1.0 in /usr/local/lib/python3.7/dist-packages (from fiona->geopandas) (1.1.1)\n",
            "Requirement already satisfied: certifi in /usr/local/lib/python3.7/dist-packages (from fiona->geopandas) (2020.12.5)\n",
            "Requirement already satisfied: six>=1.7 in /usr/local/lib/python3.7/dist-packages (from fiona->geopandas) (1.15.0)\n",
            "Requirement already satisfied: click<8,>=4.0 in /usr/local/lib/python3.7/dist-packages (from fiona->geopandas) (7.1.2)\n",
            "Requirement already satisfied: attrs>=17 in /usr/local/lib/python3.7/dist-packages (from fiona->geopandas) (20.3.0)\n",
            "Requirement already satisfied: munch in /usr/local/lib/python3.7/dist-packages (from fiona->geopandas) (2.5.0)\n",
            "Requirement already satisfied: python-dateutil>=2.6.1 in /usr/local/lib/python3.7/dist-packages (from pandas->geopandas) (2.8.1)\n",
            "Requirement already satisfied: pytz>=2017.2 in /usr/local/lib/python3.7/dist-packages (from pandas->geopandas) (2018.9)\n",
            "Requirement already satisfied: numpy>=1.13.3 in /usr/local/lib/python3.7/dist-packages (from pandas->geopandas) (1.19.5)\n",
            "Requirement already satisfied: kiwisolver>=1.0.1 in /usr/local/lib/python3.7/dist-packages (from matplotlib->descartes->geopandas) (1.3.1)\n",
            "Requirement already satisfied: cycler>=0.10 in /usr/local/lib/python3.7/dist-packages (from matplotlib->descartes->geopandas) (0.10.0)\n",
            "Requirement already satisfied: pyparsing!=2.0.4,!=2.1.2,!=2.1.6,>=2.0.1 in /usr/local/lib/python3.7/dist-packages (from matplotlib->descartes->geopandas) (2.4.7)\n",
            "Requirement already satisfied: numpy in /usr/local/lib/python3.7/dist-packages (1.19.5)\n",
            "Requirement already satisfied: pandas==1.0.1 in /usr/local/lib/python3.7/dist-packages (1.0.1)\n",
            "Requirement already satisfied: numpy>=1.13.3 in /usr/local/lib/python3.7/dist-packages (from pandas==1.0.1) (1.19.5)\n",
            "Requirement already satisfied: pytz>=2017.2 in /usr/local/lib/python3.7/dist-packages (from pandas==1.0.1) (2018.9)\n",
            "Requirement already satisfied: python-dateutil>=2.6.1 in /usr/local/lib/python3.7/dist-packages (from pandas==1.0.1) (2.8.1)\n",
            "Requirement already satisfied: six>=1.5 in /usr/local/lib/python3.7/dist-packages (from python-dateutil>=2.6.1->pandas==1.0.1) (1.15.0)\n",
            "Requirement already satisfied: fiona in /usr/local/lib/python3.7/dist-packages (1.8.18)\n",
            "Requirement already satisfied: munch in /usr/local/lib/python3.7/dist-packages (from fiona) (2.5.0)\n",
            "Requirement already satisfied: attrs>=17 in /usr/local/lib/python3.7/dist-packages (from fiona) (20.3.0)\n",
            "Requirement already satisfied: six>=1.7 in /usr/local/lib/python3.7/dist-packages (from fiona) (1.15.0)\n",
            "Requirement already satisfied: certifi in /usr/local/lib/python3.7/dist-packages (from fiona) (2020.12.5)\n",
            "Requirement already satisfied: cligj>=0.5 in /usr/local/lib/python3.7/dist-packages (from fiona) (0.7.1)\n",
            "Requirement already satisfied: click<8,>=4.0 in /usr/local/lib/python3.7/dist-packages (from fiona) (7.1.2)\n",
            "Requirement already satisfied: click-plugins>=1.0 in /usr/local/lib/python3.7/dist-packages (from fiona) (1.1.1)\n",
            "Requirement already satisfied: pyproj in /usr/local/lib/python3.7/dist-packages (3.0.1)\n",
            "Requirement already satisfied: certifi in /usr/local/lib/python3.7/dist-packages (from pyproj) (2020.12.5)\n",
            "Requirement already satisfied: pygeos in /usr/local/lib/python3.7/dist-packages (0.9)\n",
            "Requirement already satisfied: numpy>=1.13 in /usr/local/lib/python3.7/dist-packages (from pygeos) (1.19.5)\n",
            "4.4.1 0.3.0 1.6.3 1.2.10\n"
          ],
          "name": "stdout"
        },
        {
          "output_type": "display_data",
          "data": {
            "text/html": [
              "<html>\n",
              "<head><meta charset=\"utf-8\" /></head>\n",
              "<body>\n",
              "    <div>\n",
              "            <script src=\"https://cdnjs.cloudflare.com/ajax/libs/mathjax/2.7.5/MathJax.js?config=TeX-AMS-MML_SVG\"></script><script type=\"text/javascript\">if (window.MathJax) {MathJax.Hub.Config({SVG: {font: \"STIX-Web\"}});}</script>\n",
              "                <script type=\"text/javascript\">window.PlotlyConfig = {MathJaxConfig: 'local'};</script>\n",
              "        <script src=\"https://cdn.plot.ly/plotly-latest.min.js\"></script>    \n",
              "            <div id=\"430b5be2-d0ef-4034-9b59-179ec9e437ea\" class=\"plotly-graph-div\" style=\"height:450px; width:900px;\"></div>\n",
              "            <script type=\"text/javascript\">\n",
              "                \n",
              "                    window.PLOTLYENV=window.PLOTLYENV || {};\n",
              "                    \n",
              "                if (document.getElementById(\"430b5be2-d0ef-4034-9b59-179ec9e437ea\")) {\n",
              "                    Plotly.newPlot(\n",
              "                        '430b5be2-d0ef-4034-9b59-179ec9e437ea',\n",
              "                        [{\"fill\": \"toself\", \"fillcolor\": \"rgb(68, 1, 84)\", \"hoverinfo\": \"none\", \"line\": {\"color\": \"rgb(0, 0, 0)\", \"width\": 0}, \"mode\": \"lines\", \"name\": \"0.001658374792703151\", \"type\": \"scatter\", \"x\": [-74.867712, -74.775617, -74.854171, -74.28187, -74.25599799999999, -74.336826, -74.213734, -74.149076, -74.047062, -74.057005, -74.214625, -74.140147, -74.29270199999999, -74.32637799999999, -74.534657, -74.867712, null], \"y\": [43.339825999999995, 43.486677, 44.070088999999996, 44.120551999999996, 43.969797, 43.925222999999995, 43.810874999999996, 43.829612999999995, 43.796343, 43.744513, 43.728702999999996, 43.253979, 43.216609, 43.241634999999995, 43.228114999999995, 43.339825999999995, null]}, {\"fill\": \"toself\", \"fillcolor\": \"rgb(68, 1, 84)\", \"hoverinfo\": \"none\", \"line\": {\"color\": \"rgb(0, 0, 0)\", \"width\": 0}, \"mode\": \"lines\", \"name\": \"0.0017976373908577298\", \"type\": \"scatter\", \"x\": [-75.847487, -75.84056, -75.758157, -75.60367, -75.542898, -75.549993, -75.50183, -75.484528, -75.545886, -75.446124, -75.170159, -75.11016, -75.5335, -75.756213, -75.786759, -75.850534, -75.847487, null], \"y\": [43.818647999999996, 43.883976, 43.878785, 43.971363, 43.967794999999995, 44.008162999999996, 44.009555999999996, 44.074172, 44.102978, 44.217655, 44.096959, 43.615229, 43.419756, 43.470388, 43.78832, 43.791886, 43.818647999999996, null]}, {\"fill\": \"toself\", \"fillcolor\": \"rgb(68, 1, 84)\", \"hoverinfo\": \"none\", \"line\": {\"color\": \"rgb(0, 0, 0)\", \"width\": 0}, \"mode\": \"lines\", \"name\": \"0.00287588748090231\", \"type\": \"scatter\", \"x\": [-77.36710599999999, -77.31300399999999, -76.947429, -76.895349, -76.889805, -77.143946, -77.143795, -77.36650499999999, -77.36710599999999, null], \"y\": [42.667866, 42.761264999999995, 42.76443, 42.656255, 42.463054, 42.494704999999996, 42.576868999999995, 42.576367999999995, 42.667866, null]}, {\"fill\": \"toself\", \"fillcolor\": \"rgb(68, 1, 84)\", \"hoverinfo\": \"none\", \"line\": {\"color\": \"rgb(0, 0, 0)\", \"width\": 0}, \"mode\": \"lines\", \"name\": \"0.0033253903332503467\", \"type\": \"scatter\", \"x\": [-79.762152, -79.761951, -79.453533, -79.354483, -79.13689290760351, -79.060777, -79.06126499999999, -79.76137399999999, -79.762152, null], \"y\": [42.243054, 42.26986, 42.411156999999996, 42.494071, 42.5697987744532, 42.537853, 41.999258999999995, 41.999067, 42.243054, null]}, {\"fill\": \"toself\", \"fillcolor\": \"rgb(72, 24, 106)\", \"hoverinfo\": \"none\", \"line\": {\"color\": \"rgb(0, 0, 0)\", \"width\": 0}, \"mode\": \"lines\", \"name\": \"0.003691063545646771\", \"type\": \"scatter\", \"x\": [-76.14753499999999, -76.142569, -76.140667, -76.144708, -76.14753499999999, null, -76.187253, -76.173467, -76.169664, -76.176557, -76.187253, null, -76.336761, -76.329628, -76.317726, -76.321297, -76.336761, null, -76.356691, -76.345978, -76.3013, -76.326393, -76.356691, null, -76.369699, -76.312647, -76.191328, -76.161833, -75.8600599283155, -75.446124, -75.545886, -75.484528, -75.50183, -75.549993, -75.542898, -75.60367, -75.758157, -75.84056, -75.850534, -75.786759, -75.774553, -76.025087, -76.022003, -76.1996693718617, -76.23498599999999, -76.297392, -76.21376099999999, -76.237363, -76.199809, -76.127285, -76.13435799999999, -76.059062, -76.200249, -76.120695, -76.168284, -76.15505399999999, -76.211384, -76.20164, -76.272706, -76.278691, -76.199693, -76.280677, -76.29528499999999, -76.360306, -76.344247, -76.369699, null, -76.373772, -76.36784899999999, -76.364173, -76.365988, -76.373772, null, -76.383338, -76.37007899999999, -76.342117, -76.36174799999999, -76.383338, null, -76.398564, -76.394578, -76.392347, -76.395759, -76.398564, null, -76.445999, -76.406471, -76.377945, -76.399976, -76.445999, null], \"y\": [43.942484, 43.944167, 43.942284, 43.940231, 43.942484, null, 44.013777, 44.024716, 44.024887, 44.017196, 44.013777, null, 44.034183999999996, 44.044295999999996, 44.051434, 44.031208, 44.034183999999996, null, 43.878246, 43.894034999999995, 43.917750999999996, 43.880973999999995, 43.878246, null, 44.104670999999996, 44.199044, 44.221244, 44.280777, 44.4032818662487, 44.217655, 44.102978, 44.074172, 44.009555999999996, 44.008162999999996, 43.967794999999995, 43.971363, 43.878785, 43.883976, 43.791886, 43.78832, 43.688883999999995, 43.707018, 43.668143, 43.6801913412181, 43.822624999999995, 43.855925, 43.900234, 43.863596, 43.854341, 43.897889, 43.945664, 43.9857, 43.967931, 44.031296, 44.032723, 44.064353, 44.057351, 44.079038999999995, 44.04078, 44.016067, 44.025585, 43.959683, 44.058717, 44.070907, 44.087917, 44.104670999999996, null, 43.874784, 43.879003999999995, 43.87856, 43.876188, 43.874784, null, 44.037361, 44.052029, 44.053813999999996, 44.032993, 44.037361, null, 43.884133, 43.888076, 43.887859, 43.882729999999995, 43.884133, null, 43.890254999999996, 43.921188, 43.921188, 43.901711, 43.890254999999996, null]}, {\"fill\": \"toself\", \"fillcolor\": \"rgb(72, 24, 106)\", \"hoverinfo\": \"none\", \"line\": {\"color\": \"rgb(0, 0, 0)\", \"width\": 0}, \"mode\": \"lines\", \"name\": \"0.0036951246415177588\", \"type\": \"scatter\", \"x\": [-78.488118, -78.486256, -77.95496399999999, -77.956334, -78.050827, -78.028031, -78.060752, -78.03826099999999, -78.464556, -78.463233, -78.488118, null], \"y\": [42.781571, 42.867731, 42.862753999999995, 42.667322, 42.576007999999995, 42.567738999999996, 42.536708999999995, 42.521522, 42.519166, 42.780460999999995, 42.781571, null]}, {\"fill\": \"toself\", \"fillcolor\": \"rgb(72, 24, 106)\", \"hoverinfo\": \"none\", \"line\": {\"color\": \"rgb(0, 0, 0)\", \"width\": 0}, \"mode\": \"lines\", \"name\": \"0.0036989088218975404\", \"type\": \"scatter\", \"x\": [-75.99242799999999, -75.86759599999999, -75.719899, -75.596879, -75.552774, -75.54280299999999, -75.44417299999999, -75.437167, -75.247963, -75.251037, -75.29587699999999, -75.889832, -75.917219, -75.975588, -75.950057, -75.99242799999999, null], \"y\": [43.185164, 43.146629, 43.161052999999995, 43.035399, 43.037554, 42.931774, 42.933088999999995, 42.863319, 42.871604, 42.785115, 42.744105999999995, 42.723844, 43.085926, 43.091277999999996, 43.134853, 43.185164, null]}, {\"fill\": \"toself\", \"fillcolor\": \"rgb(72, 24, 106)\", \"hoverinfo\": \"none\", \"line\": {\"color\": \"rgb(0, 0, 0)\", \"width\": 0}, \"mode\": \"lines\", \"name\": \"0.004048582995951417\", \"type\": \"scatter\", \"x\": [-78.465505, -77.905934, -77.951044, -77.904121, -77.911413, -77.95553, -77.95496399999999, -78.464381, -78.465505, null], \"y\": [43.128619, 43.133561, 43.039544, 43.037056, 42.945063999999995, 42.905861, 42.862753999999995, 42.867461, 43.128619, null]}, {\"fill\": \"toself\", \"fillcolor\": \"rgb(71, 45, 123)\", \"hoverinfo\": \"none\", \"line\": {\"color\": \"rgb(0, 0, 0)\", \"width\": 0}, \"mode\": \"lines\", \"name\": \"0.004301764180948677\", \"type\": \"scatter\", \"x\": [-75.8600599283155, -75.76623, -75.30763, -74.992756, -74.801638, -74.72622806320749, -74.72030699999999, -74.64187199999999, -74.535156, -75.06277899999999, -75.8600599283155, null], \"y\": [44.4032818662487, 44.515851, 44.836813, 44.977449, 45.014568999999995, 44.994863072200594, 44.953011, 44.952621, 44.09925, 44.0504, 44.4032818662487, null]}, {\"fill\": \"toself\", \"fillcolor\": \"rgb(71, 45, 123)\", \"hoverinfo\": \"none\", \"line\": {\"color\": \"rgb(0, 0, 0)\", \"width\": 0}, \"mode\": \"lines\", \"name\": \"0.004684794785619717\", \"type\": \"scatter\", \"x\": [-78.060752, -77.956334, -77.95553, -77.909832, -77.73095699999999, -77.73167099999999, -77.758727, -77.56725999999999, -77.546309, -77.587997, -77.598815, -77.486875, -77.490889, -77.659917, -77.661315, -77.72061699999999, -77.72296399999999, -77.840231, -77.840694, -78.060752, null], \"y\": [42.536708999999995, 42.667322, 42.905861, 42.987762, 42.988372, 42.946078, 42.940461, 42.936310999999996, 42.86569, 42.854011, 42.671965, 42.670279, 42.577287999999996, 42.580408999999996, 42.535067, 42.535066, 42.471216, 42.474576, 42.517770999999996, 42.536708999999995, null]}, {\"fill\": \"toself\", \"fillcolor\": \"rgb(71, 45, 123)\", \"hoverinfo\": \"none\", \"line\": {\"color\": \"rgb(0, 0, 0)\", \"width\": 0}, \"mode\": \"lines\", \"name\": \"0.004947396656036718\", \"type\": \"scatter\", \"x\": [-79.059209, -79.060777, -78.99532599999999, -78.95703, -78.88298999999999, -78.48847599999999, -78.30883899999999, -78.308128, -79.06126499999999, -79.059209, null], \"y\": [42.075381, 42.537853, 42.531796, 42.472362, 42.438286, 42.534845, 42.521217, 41.999415, 41.999258999999995, 42.075381, null]}, {\"fill\": \"toself\", \"fillcolor\": \"rgb(66, 64, 134)\", \"hoverinfo\": \"none\", \"line\": {\"color\": \"rgb(0, 0, 0)\", \"width\": 0}, \"mode\": \"lines\", \"name\": \"0.00522521330775845\", \"type\": \"scatter\", \"x\": [-76.981257, -76.963926, -76.71380599999999, -76.739361, -76.731636, -76.585989, -76.895596, -76.897117, -76.977888, -76.981257, null], \"y\": [42.862066, 43.013157, 43.024035, 42.954473, 42.72074, 42.54991, 42.541537, 42.66365, 42.77324, 42.862066, null]}, {\"fill\": \"toself\", \"fillcolor\": \"rgb(66, 64, 134)\", \"hoverinfo\": \"none\", \"line\": {\"color\": \"rgb(0, 0, 0)\", \"width\": 0}, \"mode\": \"lines\", \"name\": \"0.005280190768182593\", \"type\": \"scatter\", \"x\": [-76.563133, -76.536507, -76.538349, -76.41619899999999, -76.415305, -76.250149, -76.23855499999999, -76.298429, -76.29318599999999, -76.124521, -76.080681, -76.086683, -76.116225, -76.10584, -76.55762413688969, -76.563133, null], \"y\": [42.154184, 42.155403, 42.281755, 42.262975999999995, 42.318368, 42.296676, 42.356621, 42.381546, 42.406403, 42.402013, 42.258084, 42.186858, 42.18561, 41.998858, 42.000148906120295, 42.154184, null]}, {\"fill\": \"toself\", \"fillcolor\": \"rgb(66, 64, 134)\", \"hoverinfo\": \"none\", \"line\": {\"color\": \"rgb(0, 0, 0)\", \"width\": 0}, \"mode\": \"lines\", \"name\": \"0.005988278263824004\", \"type\": \"scatter\", \"x\": [-74.774233, -74.696333, -74.713005, -74.534657, -74.32637799999999, -74.322375, -74.140147, -74.097467, -74.542367, -74.759895, -74.774233, null], \"y\": [43.082269, 43.173514999999995, 43.289003, 43.228114999999995, 43.241634999999995, 43.214684, 43.253979, 42.982934, 42.98553, 43.047422999999995, 43.082269, null]}, {\"fill\": \"toself\", \"fillcolor\": \"rgb(66, 64, 134)\", \"hoverinfo\": \"none\", \"line\": {\"color\": \"rgb(0, 0, 0)\", \"width\": 0}, \"mode\": \"lines\", \"name\": \"0.00608946608946609\", \"type\": \"scatter\", \"x\": [-74.0273918752465, -73.343124, -73.338979, -73.381359, -73.333154, -73.390231, -73.33863044507319, -73.463838, -73.49660399999999, -73.669281, -73.90968699999999, -74.0273918752465, null], \"y\": [44.995765498918, 45.010839999999995, 44.917680999999995, 44.845020999999996, 44.788759, 44.618353, 44.5468424276295, 44.537681, 44.486081, 44.441355, 44.429699, 44.995765498918, null]}, {\"fill\": \"toself\", \"fillcolor\": \"rgb(59, 82, 139)\", \"hoverinfo\": \"none\", \"line\": {\"color\": \"rgb(0, 0, 0)\", \"width\": 0}, \"mode\": \"lines\", \"name\": \"0.006160371642092506\", \"type\": \"scatter\", \"x\": [-78.309316, -78.30883899999999, -77.840694, -77.840231, -77.72296399999999, -77.74993099999999, -78.308128, -78.309316, null], \"y\": [42.231684, 42.521217, 42.517770999999996, 42.474576, 42.471216, 41.998782, 41.999415, 42.231684, null]}, {\"fill\": \"toself\", \"fillcolor\": \"rgb(59, 82, 139)\", \"hoverinfo\": \"none\", \"line\": {\"color\": \"rgb(0, 0, 0)\", \"width\": 0}, \"mode\": \"lines\", \"name\": \"0.006536876509876368\", \"type\": \"scatter\", \"x\": [-75.889832, -75.29587699999999, -75.330394, -75.33014299999999, -75.403459, -75.374617, -75.40669, -75.418421, -75.63710999999999, -75.639055, -75.83631, -75.889832, null], \"y\": [42.723844, 42.744105999999995, 42.674195, 42.568082, 42.508699, 42.415997999999995, 42.380781, 42.195032, 42.195628, 42.248675, 42.244091, 42.723844, null]}, {\"fill\": \"toself\", \"fillcolor\": \"rgb(59, 82, 139)\", \"hoverinfo\": \"none\", \"line\": {\"color\": \"rgb(0, 0, 0)\", \"width\": 0}, \"mode\": \"lines\", \"name\": \"0.006693947063415096\", \"type\": \"scatter\", \"x\": [-77.376046, -76.952412, -76.72250131286259, -76.71380599999999, -77.371478, -77.376046, null], \"y\": [43.2762243589198, 43.270313, 43.3436862821829, 43.024035, 43.034696, 43.2762243589198, null]}, {\"fill\": \"toself\", \"fillcolor\": \"rgb(51, 99, 141)\", \"hoverinfo\": \"none\", \"line\": {\"color\": \"rgb(0, 0, 0)\", \"width\": 0}, \"mode\": \"lines\", \"name\": \"0.006732889215523577\", \"type\": \"scatter\", \"x\": [-77.74851, -77.72061699999999, -77.661315, -77.659917, -77.143795, -77.149502, -77.107581, -77.099657, -76.96502799999999, -76.96572797329421, -77.74993099999999, -77.74851, null], \"y\": [42.031893, 42.535066, 42.535067, 42.580408999999996, 42.576868999999995, 42.50007, 42.505365, 42.272355999999995, 42.278495, 42.0012735436595, 41.998782, 42.031893, null]}, {\"fill\": \"toself\", \"fillcolor\": \"rgb(51, 99, 141)\", \"hoverinfo\": \"none\", \"line\": {\"color\": \"rgb(0, 0, 0)\", \"width\": 0}, \"mode\": \"lines\", \"name\": \"0.0069622197194635\", \"type\": \"scatter\", \"x\": [-74.72622806320749, -74.0273918752465, -73.90968699999999, -74.141424, -74.09349, -74.535156, -74.64187199999999, -74.72030699999999, -74.72622806320749, null], \"y\": [44.994863072200594, 44.995765498918, 44.429699, 44.407267999999995, 44.137615, 44.09925, 44.952621, 44.953011, 44.994863072200594, null]}, {\"fill\": \"toself\", \"fillcolor\": \"rgb(51, 99, 141)\", \"hoverinfo\": \"none\", \"line\": {\"color\": \"rgb(0, 0, 0)\", \"width\": 0}, \"mode\": \"lines\", \"name\": \"0.007135458625848775\", \"type\": \"scatter\", \"x\": [-74.336826, -74.25599799999999, -74.28187, -74.09349, -74.141424, -73.669281, -73.49660399999999, -73.463838, -73.33863044507319, -73.306707, -73.293855, -73.33493899999999, -73.31285199999999, -73.39058299999999, -73.43773999999999, -73.405999, -73.3793298267232, -74.057005, -74.047062, -74.149076, -74.213734, -74.336826, null], \"y\": [43.925222999999995, 43.969797, 44.120551999999996, 44.137615, 44.407267999999995, 44.441355, 44.486081, 44.537681, 44.5468424276295, 44.500333999999995, 44.437556, 44.364441, 44.265346, 44.190886, 44.045006, 44.016228999999996, 43.808476322237, 43.744513, 43.796343, 43.829612999999995, 43.810874999999996, 43.925222999999995, null]}, {\"fill\": \"toself\", \"fillcolor\": \"rgb(51, 99, 141)\", \"hoverinfo\": \"none\", \"line\": {\"color\": \"rgb(0, 0, 0)\", \"width\": 0}, \"mode\": \"lines\", \"name\": \"0.007918373778758273\", \"type\": \"scatter\", \"x\": [-76.61692529756529, -76.417581, -76.228701, -76.1996693718617, -76.022003, -76.025087, -75.774553, -75.756213, -75.814627, -75.88675599999999, -75.862934, -75.884275, -76.078902, -76.202573, -76.198748, -76.274051, -76.281027, -76.307541, -76.605012, -76.61692529756529, null], \"y\": [43.4180442652892, 43.521285, 43.532987, 43.6801913412181, 43.668143, 43.707018, 43.688883999999995, 43.470388, 43.483578, 43.325021, 43.319221999999996, 43.155561999999996, 43.19948, 43.271539, 43.212568, 43.240168, 43.201091, 43.230788, 43.253569999999996, 43.4180442652892, null]}, {\"fill\": \"toself\", \"fillcolor\": \"rgb(44, 114, 142)\", \"hoverinfo\": \"none\", \"line\": {\"color\": \"rgb(0, 0, 0)\", \"width\": 0}, \"mode\": \"lines\", \"name\": \"0.00813720580871307\", \"type\": \"scatter\", \"x\": [-77.107203, -76.889805, -76.895596, -76.69665499999999, -76.691406, -76.619303, -76.61953299999999, -76.732677, -76.73391199999999, -77.099657, -77.107203, null], \"y\": [42.483771, 42.463054, 42.541537, 42.54679, 42.284307, 42.282852999999996, 42.248664, 42.248052, 42.29372, 42.272355999999995, 42.483771, null]}, {\"fill\": \"toself\", \"fillcolor\": \"rgb(44, 114, 142)\", \"hoverinfo\": \"none\", \"line\": {\"color\": \"rgb(0, 0, 0)\", \"width\": 0}, \"mode\": \"lines\", \"name\": \"0.00825742742827956\", \"type\": \"scatter\", \"x\": [-76.27467299999999, -75.896079, -75.86402, -76.253359, -76.27467299999999, null], \"y\": [42.771257, 42.790963999999995, 42.415701999999996, 42.407568, 42.771257, null]}, {\"fill\": \"toself\", \"fillcolor\": \"rgb(44, 114, 142)\", \"hoverinfo\": \"none\", \"line\": {\"color\": \"rgb(0, 0, 0)\", \"width\": 0}, \"mode\": \"lines\", \"name\": \"0.008366871425545435\", \"type\": \"scatter\", \"x\": [-75.219106, -75.069165, -75.162371, -75.14818, -75.07658099999999, -75.170159, -75.06277899999999, -74.854171, -74.775617, -74.867712, -74.712615, -74.69600299999999, -74.77015, -74.740237, -74.763303, -74.878822, -74.90673799999999, -75.100999, -75.13987, -75.21064199999999, -75.219106, null], \"y\": [43.052468999999995, 43.227333, 43.258463, 43.304828, 43.330704999999995, 44.096959, 44.0504, 44.070088999999996, 43.486677, 43.339825999999995, 43.286142999999996, 43.177862, 43.112505, 43.014483, 42.863237, 42.898274, 42.824943, 42.908363, 42.85976, 42.856549, 43.052468999999995, null]}, {\"fill\": \"toself\", \"fillcolor\": \"rgb(44, 114, 142)\", \"hoverinfo\": \"none\", \"line\": {\"color\": \"rgb(0, 0, 0)\", \"width\": 0}, \"mode\": \"lines\", \"name\": \"0.008560826928173866\", \"type\": \"scatter\", \"x\": [-74.1601, -73.883299, -73.824615, -73.83491699999999, -73.767498, -73.73047799999999, -73.588822, -73.578155, -73.68307399999999, -73.676762, -73.726663, -73.822166, -73.895938, -73.904386, -73.955458, -74.09298, -74.1601, null], \"y\": [43.371531999999995, 43.397988, 43.304269999999995, 43.251003999999995, 43.222122999999996, 43.270773999999996, 43.300543, 43.055786999999995, 42.903776, 42.783277, 42.822576999999995, 42.780277999999996, 42.851076, 42.911162999999995, 42.897306, 42.955867999999995, 43.371531999999995, null]}, {\"fill\": \"toself\", \"fillcolor\": \"rgb(38, 130, 142)\", \"hoverinfo\": \"none\", \"line\": {\"color\": \"rgb(0, 0, 0)\", \"width\": 0}, \"mode\": \"lines\", \"name\": \"0.0085778619679045\", \"type\": \"scatter\", \"x\": [-73.63621499999999, -73.61323, -73.494314, -73.470131, -73.3793298267232, -73.350707, -73.430947, -73.39576699999999, -73.371889, -73.306234, -73.24158899999999, -73.274294, -73.635463, -73.573342, -73.63621499999999, null], \"y\": [43.498238, 43.562931999999996, 43.653966, 43.776973999999996, 43.808476322237, 43.770463, 43.587036, 43.568087, 43.624489, 43.628018, 43.534973, 42.943652, 42.941289999999995, 43.100545, 43.498238, null]}, {\"fill\": \"toself\", \"fillcolor\": \"rgb(38, 130, 142)\", \"hoverinfo\": \"none\", \"line\": {\"color\": \"rgb(0, 0, 0)\", \"width\": 0}, \"mode\": \"lines\", \"name\": \"0.009112567004169148\", \"type\": \"scatter\", \"x\": [-78.466021, -78.451877, -77.99559629134319, -77.99728999999999, -78.465505, -78.466021, null], \"y\": [43.332401999999995, 43.372679, 43.3652387952246, 43.132981, 43.128619, 43.332401999999995, null]}, {\"fill\": \"toself\", \"fillcolor\": \"rgb(38, 130, 142)\", \"hoverinfo\": \"none\", \"line\": {\"color\": \"rgb(0, 0, 0)\", \"width\": 0}, \"mode\": \"lines\", \"name\": \"0.009183475293399551\", \"type\": \"scatter\", \"x\": [-76.74006, -76.717185, -76.739361, -76.702325, -76.72250131286259, -76.61692529756529, -76.605012, -76.48114799999999, -76.471774, -76.499274, -76.450738, -76.357018, -76.286198, -76.26558399999999, -76.66654299999999, -76.728951, -76.74006, null], \"y\": [42.789418999999995, 42.83883, 42.954473, 43.080393, 43.3436862821829, 43.4180442652892, 43.253569999999996, 43.256640999999995, 43.104983, 43.097201, 42.84576, 42.849447999999995, 42.794443, 42.623588, 42.623456999999995, 42.712897999999996, 42.789418999999995, null]}, {\"fill\": \"toself\", \"fillcolor\": \"rgb(33, 145, 140)\", \"hoverinfo\": \"none\", \"line\": {\"color\": \"rgb(0, 0, 0)\", \"width\": 0}, \"mode\": \"lines\", \"name\": \"0.00930276981852913\", \"type\": \"scatter\", \"x\": [-77.61166999999999, -77.588217, -77.587997, -77.546309, -77.580377, -77.482517, -77.485418, -76.963926, -76.971392, -77.31300399999999, -77.36710599999999, -77.36650499999999, -77.490889, -77.486875, -77.598815, -77.61166999999999, null], \"y\": [42.763169, 42.762964, 42.854011, 42.86569, 42.943963, 42.943163999999996, 43.034563999999996, 43.013157, 42.764223, 42.761264999999995, 42.667866, 42.576367999999995, 42.577287999999996, 42.670279, 42.671965, 42.763169, null]}, {\"fill\": \"toself\", \"fillcolor\": \"rgb(33, 145, 140)\", \"hoverinfo\": \"none\", \"line\": {\"color\": \"rgb(0, 0, 0)\", \"width\": 0}, \"mode\": \"lines\", \"name\": \"0.00944081336238199\", \"type\": \"scatter\", \"x\": [-74.511284, -74.443506, -74.276645, -74.244692, -74.254303, -73.83675699999999, -73.783721, -73.775492, -73.788235, -73.910675, -74.00245, -74.04239299999999, -74.07479699999999, -74.307571, -74.53730999999999, -74.511284, null], \"y\": [42.236697, 42.355017, 42.363349, 42.377159, 42.408207, 42.458591999999996, 42.464231, 42.460221999999995, 42.269832, 42.127292999999995, 42.176992, 42.170386, 42.096589, 42.114346, 42.201423999999996, 42.236697, null]}, {\"fill\": \"toself\", \"fillcolor\": \"rgb(33, 145, 140)\", \"hoverinfo\": \"none\", \"line\": {\"color\": \"rgb(0, 0, 0)\", \"width\": 0}, \"mode\": \"lines\", \"name\": \"0.010205064022335612\", \"type\": \"scatter\", \"x\": [-74.214625, -73.495503, -73.436578, -73.471057, -73.459294, -73.494314, -73.61323, -73.636212, -73.59496, -73.671273, -73.669561, -73.73469, -73.767498, -73.83491699999999, -73.824615, -73.883299, -74.1601, -74.214625, null], \"y\": [43.728702999999996, 43.799319, 43.801418999999996, 43.775256999999996, 43.730031, 43.653966, 43.562931999999996, 43.50013, 43.306118, 43.293154, 43.263870999999995, 43.268896999999996, 43.222122999999996, 43.251003999999995, 43.304269999999995, 43.397988, 43.371531999999995, 43.728702999999996, null]}, {\"fill\": \"toself\", \"fillcolor\": \"rgb(33, 145, 140)\", \"hoverinfo\": \"none\", \"line\": {\"color\": \"rgb(0, 0, 0)\", \"width\": 0}, \"mode\": \"lines\", \"name\": \"0.011155786818038473\", \"type\": \"scatter\", \"x\": [-75.88675599999999, -75.814627, -75.5335, -75.11016, -75.07658099999999, -75.14818, -75.162371, -75.069165, -75.219106, -75.201444, -75.437167, -75.44417299999999, -75.54280299999999, -75.552774, -75.596879, -75.719899, -75.884275, -75.862934, -75.88675599999999, null], \"y\": [43.325021, 43.483578, 43.419756, 43.615229, 43.330704999999995, 43.304828, 43.258463, 43.227333, 43.052468999999995, 42.880663999999996, 42.863319, 42.933088999999995, 42.931774, 43.037554, 43.035399, 43.161052999999995, 43.155561999999996, 43.319221999999996, 43.325021, null]}, {\"fill\": \"toself\", \"fillcolor\": \"rgb(31, 160, 136)\", \"hoverinfo\": \"none\", \"line\": {\"color\": \"rgb(0, 0, 0)\", \"width\": 0}, \"mode\": \"lines\", \"name\": \"0.0118519868018866\", \"type\": \"scatter\", \"x\": [-79.075367, -79.042366, -79.070469, -78.4655020828508, -78.469736, -78.72764699999999, -78.83126, -78.841745, -79.075367, null], \"y\": [43.081354999999995, 43.143654999999995, 43.262454, 43.3712326509368, 43.082797, 43.08622, 43.050246, 43.018862999999996, 43.081354999999995, null]}, {\"fill\": \"toself\", \"fillcolor\": \"rgb(31, 160, 136)\", \"hoverinfo\": \"none\", \"line\": {\"color\": \"rgb(0, 0, 0)\", \"width\": 0}, \"mode\": \"lines\", \"name\": \"0.01324534978243198\", \"type\": \"scatter\", \"x\": [-74.75862599999999, -74.759895, -74.542367, -74.097467, -74.083883, -74.289446, -74.454911, -74.763303, -74.75862599999999, null], \"y\": [42.887775, 43.047422999999995, 42.98553, 42.982934, 42.897354, 42.783805, 42.772979, 42.863237, 42.887775, null]}, {\"fill\": \"toself\", \"fillcolor\": \"rgb(31, 160, 136)\", \"hoverinfo\": \"none\", \"line\": {\"color\": \"rgb(0, 0, 0)\", \"width\": 0}, \"mode\": \"lines\", \"name\": \"0.014543760674913307\", \"type\": \"scatter\", \"x\": [-75.422637, -75.415319, -75.308405, -75.19095999999999, -75.197237, -74.844121, -74.71158, -74.618895, -74.428196, -74.53730999999999, -74.451713, -75.152898, -75.17457399999999, -75.260527, -75.279094, -75.402239, -75.422637, null], \"y\": [42.055913, 42.314150999999995, 42.321151, 42.379852, 42.358329, 42.512591, 42.517799, 42.424389, 42.349075, 42.201423999999996, 42.169225, 41.848563999999996, 41.872659999999996, 41.863800000000005, 41.938917, 42.010698999999995, 42.055913, null]}, {\"fill\": \"toself\", \"fillcolor\": \"rgb(40, 174, 128)\", \"hoverinfo\": \"none\", \"line\": {\"color\": \"rgb(0, 0, 0)\", \"width\": 0}, \"mode\": \"lines\", \"name\": \"0.014553922282055013\", \"type\": \"scatter\", \"x\": [-74.71158, -74.630652, -74.667512, -74.648298, -74.454911, -74.256547, -74.258507, -74.306665, -74.272295, -74.164678, -74.24157199999999, -74.226447, -74.264755, -74.244692, -74.276645, -74.443506, -74.618895, -74.71158, null], \"y\": [42.517799, 42.62677, 42.75071, 42.829558, 42.772979, 42.79587, 42.757397999999995, 42.750074, 42.71427, 42.717206999999995, 42.550802, 42.499233, 42.418876, 42.377159, 42.363349, 42.355017, 42.424389, 42.517799, null]}, {\"fill\": \"toself\", \"fillcolor\": \"rgb(40, 174, 128)\", \"hoverinfo\": \"none\", \"line\": {\"color\": \"rgb(0, 0, 0)\", \"width\": 0}, \"mode\": \"lines\", \"name\": \"0.01840225156960381\", \"type\": \"scatter\", \"x\": [-75.416932, -75.374905, -75.403459, -75.33014299999999, -75.330394, -75.251037, -75.242745, -75.13987, -75.100999, -74.90673799999999, -74.878822, -74.648298, -74.667512, -74.630652, -74.712513, -74.844121, -75.197237, -75.19095999999999, -75.308405, -75.416932, null], \"y\": [42.314094, 42.410784, 42.508699, 42.568082, 42.674195, 42.785115, 42.877869, 42.85976, 42.908363, 42.824943, 42.898274, 42.829558, 42.75071, 42.62677, 42.516585, 42.512591, 42.358329, 42.379852, 42.321151, 42.314094, null]}, {\"fill\": \"toself\", \"fillcolor\": \"rgb(40, 174, 128)\", \"hoverinfo\": \"none\", \"line\": {\"color\": \"rgb(0, 0, 0)\", \"width\": 0}, \"mode\": \"lines\", \"name\": \"0.020041109969167522\", \"type\": \"scatter\", \"x\": [-75.146446, -74.780693, -74.453685, -74.575086, -74.395071, -74.364486, -74.475619, -74.752399, -74.75858699999999, -74.893913, -74.912517, -74.983341, -75.074613, -75.044224, -75.053431, -75.104334, -75.072172, -75.146446, null], \"y\": [41.850899, 42.016375, 41.875595, 41.745258, 41.644876, 41.593782999999995, 41.503952999999996, 41.493742999999995, 41.423286999999995, 41.43893, 41.475605, 41.480894, 41.605711, 41.617978, 41.752538, 41.772693, 41.813731999999995, 41.850899, null]}, {\"fill\": \"toself\", \"fillcolor\": \"rgb(40, 174, 128)\", \"hoverinfo\": \"none\", \"line\": {\"color\": \"rgb(0, 0, 0)\", \"width\": 0}, \"mode\": \"lines\", \"name\": \"0.020447233374990027\", \"type\": \"scatter\", \"x\": [-76.96609099999999, -76.964761, -76.73391199999999, -76.732677, -76.642256, -76.619303, -76.538349, -76.55762413688969, -76.96572797329421, -76.96609099999999, null], \"y\": [42.143547, 42.28744, 42.29372, 42.248052, 42.233720999999996, 42.282852999999996, 42.281755, 42.000148906120295, 42.0012735436595, 42.143547, null]}, {\"fill\": \"toself\", \"fillcolor\": \"rgb(63, 188, 115)\", \"hoverinfo\": \"none\", \"line\": {\"color\": \"rgb(0, 0, 0)\", \"width\": 0}, \"mode\": \"lines\", \"name\": \"0.022411286002193935\", \"type\": \"scatter\", \"x\": [-73.786047, -73.761265, -73.658462, -73.684535, -73.659675, -73.274294, -73.290944, -73.264957, -73.3525249549442, -73.786047, null], \"y\": [42.483835, 42.610378999999995, 42.809076999999995, 42.892837, 42.933364, 42.943652, 42.801919999999996, 42.74594, 42.5100075099506, 42.483835, null]}, {\"fill\": \"toself\", \"fillcolor\": \"rgb(63, 188, 115)\", \"hoverinfo\": \"none\", \"line\": {\"color\": \"rgb(0, 0, 0)\", \"width\": 0}, \"mode\": \"lines\", \"name\": \"0.02299873370067422\", \"type\": \"scatter\", \"x\": [-73.929114, -73.847813, -73.784116, -73.783721, -73.3525249549442, -73.52707199999999, -73.929114, null], \"y\": [42.081658, 42.230346999999995, 42.280465, 42.464231, 42.5100075099506, 41.977979999999995, 42.081658, null]}, {\"fill\": \"toself\", \"fillcolor\": \"rgb(63, 188, 115)\", \"hoverinfo\": \"none\", \"line\": {\"color\": \"rgb(0, 0, 0)\", \"width\": 0}, \"mode\": \"lines\", \"name\": \"0.02377238035808573\", \"type\": \"scatter\", \"x\": [-74.780693, -74.451713, -74.307571, -74.07479699999999, -74.04239299999999, -74.00245, -73.910675, -73.964413, -73.93938899999999, -73.953307, -74.05394199999999, -74.134511, -74.126393, -74.187505, -74.264292, -74.368191, -74.395071, -74.575086, -74.453685, -74.780693, null], \"y\": [42.016375, 42.169225, 42.114346, 42.096589, 42.170386, 42.176992, 42.127292999999995, 41.913148, 41.865852, 41.589977, 41.580724, 41.615694999999995, 41.582544, 41.590793, 41.632629, 41.591353, 41.644876, 41.745258, 41.875595, 42.016375, null]}, {\"fill\": \"toself\", \"fillcolor\": \"rgb(63, 188, 115)\", \"hoverinfo\": \"none\", \"line\": {\"color\": \"rgb(0, 0, 0)\", \"width\": 0}, \"mode\": \"lines\", \"name\": \"0.029040368292006184\", \"type\": \"scatter\", \"x\": [-77.997248, -77.99559629134319, -77.76023099999999, -77.551022, -77.376046, -77.371478, -77.485418, -77.482517, -77.758727, -77.73167099999999, -77.73095699999999, -77.909832, -77.904121, -77.951044, -77.905934, -77.997248, null], \"y\": [43.136519, 43.3652387952246, 43.341161, 43.235763, 43.2762243589198, 43.034696, 43.034563999999996, 42.943163999999996, 42.940461, 42.946078, 42.988372, 42.987762, 43.037056, 43.039544, 43.133561, 43.136519, null]}, {\"fill\": \"toself\", \"fillcolor\": \"rgb(94, 201, 98)\", \"hoverinfo\": \"none\", \"line\": {\"color\": \"rgb(0, 0, 0)\", \"width\": 0}, \"mode\": \"lines\", \"name\": \"0.031766867944342345\", \"type\": \"scatter\", \"x\": [-76.499312, -76.471774, -76.479224, -76.307541, -76.281027, -76.267551, -76.217646, -76.194248, -76.202573, -75.99143699999999, -75.950057, -75.975588, -75.917219, -75.896079, -76.27467299999999, -76.357018, -76.450738, -76.499312, null], \"y\": [43.097949, 43.104983, 43.227519, 43.230788, 43.201091, 43.239667999999995, 43.204820999999995, 43.217068, 43.271539, 43.18325, 43.134853, 43.091277999999996, 43.085926, 42.790963999999995, 42.771257, 42.849447999999995, 42.84576, 43.097949, null]}, {\"fill\": \"toself\", \"fillcolor\": \"rgb(94, 201, 98)\", \"hoverinfo\": \"none\", \"line\": {\"color\": \"rgb(0, 0, 0)\", \"width\": 0}, \"mode\": \"lines\", \"name\": \"0.03318785338384827\", \"type\": \"scatter\", \"x\": [-76.130181, -75.86402, -75.83631, -75.639055, -75.63710999999999, -75.418421, -75.421776, -75.359579, -76.10584, -76.116225, -76.086683, -76.080681, -76.130181, null], \"y\": [42.410337, 42.415701999999996, 42.244091, 42.248675, 42.195628, 42.195032, 42.04203, 41.999445, 41.998858, 42.18561, 42.186858, 42.258084, 42.410337, null]}, {\"fill\": \"toself\", \"fillcolor\": \"rgb(94, 201, 98)\", \"hoverinfo\": \"none\", \"line\": {\"color\": \"rgb(0, 0, 0)\", \"width\": 0}, \"mode\": \"lines\", \"name\": \"0.03698401004526858\", \"type\": \"scatter\", \"x\": [-79.13689290760351, -79.04675399999999, -78.853455, -78.918859, -79.019964, -79.0192327742718, -78.841745, -78.83126, -78.72764699999999, -78.464449, -78.488143, -78.463233, -78.46394, -78.88298999999999, -78.95703, -78.99532599999999, -79.13689290760351, null], \"y\": [42.5697987744532, 42.691345999999996, 42.783958, 42.946857, 42.994755999999995, 43.067931426587805, 43.018862999999996, 43.050246, 43.08622, 43.088702999999995, 42.78066, 42.780460999999995, 42.536332, 42.438286, 42.472362, 42.531796, 42.5697987744532, null]}, {\"fill\": \"toself\", \"fillcolor\": \"rgb(132, 212, 75)\", \"hoverinfo\": \"none\", \"line\": {\"color\": \"rgb(0, 0, 0)\", \"width\": 0}, \"mode\": \"lines\", \"name\": \"0.04009703786406429\", \"type\": \"scatter\", \"x\": [-74.305932, -74.252815, -74.256829, -74.083883, -74.09298, -73.955458, -73.904386, -73.895938, -73.80936899999999, -74.202713, -74.272295, -74.305932, null], \"y\": [42.751492999999996, 42.76349, 42.812214, 42.897354, 42.955867999999995, 42.897306, 42.911162999999995, 42.851076, 42.778869, 42.710826, 42.71427, 42.751492999999996, null]}, {\"fill\": \"toself\", \"fillcolor\": \"rgb(132, 212, 75)\", \"hoverinfo\": \"none\", \"line\": {\"color\": \"rgb(0, 0, 0)\", \"width\": 0}, \"mode\": \"lines\", \"name\": \"0.05022290381254681\", \"type\": \"scatter\", \"x\": [-73.999911, -73.942482, -73.93958099999999, -73.964413, -73.929626, -73.52707199999999, -73.521416, -73.487314, -73.530067, -73.933775, -73.98148599999999, -73.999911, null], \"y\": [41.459655999999995, 41.684093, 41.870044, 41.913148, 42.078778, 41.977979999999995, 42.049966, 42.049638, 41.527194, 41.488279, 41.438905, 41.459655999999995, null]}, {\"fill\": \"toself\", \"fillcolor\": \"rgb(132, 212, 75)\", \"hoverinfo\": \"none\", \"line\": {\"color\": \"rgb(0, 0, 0)\", \"width\": 0}, \"mode\": \"lines\", \"name\": \"0.051410325262101014\", \"type\": \"scatter\", \"x\": [-74.762466, -74.752399, -74.475619, -74.418399, -74.264292, -74.187505, -74.126393, -74.134511, -74.05394199999999, -73.953307, -74.000108, -73.947355, -73.961257, -74.2343582601916, -74.696398, -74.762466, null], \"y\": [41.449525, 41.493742999999995, 41.503952999999996, 41.569396999999995, 41.632629, 41.590793, 41.582544, 41.615694999999995, 41.580724, 41.589977, 41.456548999999995, 41.395254, 41.348538999999995, 41.142836102143896, 41.357338999999996, 41.449525, null]}, {\"fill\": \"toself\", \"fillcolor\": \"rgb(132, 212, 75)\", \"hoverinfo\": \"none\", \"line\": {\"color\": \"rgb(0, 0, 0)\", \"width\": 0}, \"mode\": \"lines\", \"name\": \"0.05725841341426642\", \"type\": \"scatter\", \"x\": [-74.264731, -74.226447, -74.233995, -74.169725, -74.180274, -73.809603, -73.726663, -73.676762, -73.761265, -73.783721, -74.264731, null], \"y\": [42.420127, 42.499233, 42.575688, 42.667426, 42.729979, 42.775016, 42.822576999999995, 42.783277, 42.610378999999995, 42.464231, 42.420127, null]}, {\"fill\": \"toself\", \"fillcolor\": \"rgb(173, 220, 48)\", \"hoverinfo\": \"none\", \"line\": {\"color\": \"rgb(0, 0, 0)\", \"width\": 0}, \"mode\": \"lines\", \"name\": \"0.06272127369854405\", \"type\": \"scatter\", \"x\": [-76.69665499999999, -76.585989, -76.66654299999999, -76.26558399999999, -76.253359, -76.299493, -76.239779, -76.250149, -76.415305, -76.41619899999999, -76.691406, -76.69665499999999, null], \"y\": [42.54679, 42.54991, 42.623456999999995, 42.623588, 42.407568, 42.385011999999996, 42.359705, 42.296676, 42.318368, 42.262975999999995, 42.284307, 42.54679, null]}, {\"fill\": \"toself\", \"fillcolor\": \"rgb(173, 220, 48)\", \"hoverinfo\": \"none\", \"line\": {\"color\": \"rgb(0, 0, 0)\", \"width\": 0}, \"mode\": \"lines\", \"name\": \"0.0653838210078221\", \"type\": \"scatter\", \"x\": [-72.0368298202051, -72.020495, -71.92138299999999, -72.002461, -72.0368298202051, null, -72.142929, -72.12979399999999, -72.079514, -72.086975, -72.142929, null, -72.210995, -72.18898, -72.161034, -72.198601, -72.210995, null, -73.49740276398609, -73.485365, -73.426608, -73.35506699999999, -73.407356, -73.392862, -73.22838399999999, -73.148994, -73.159576, -73.118331, -72.635562, -72.278789, -72.232006, -72.294778, -72.32663, -72.317238, -72.260515, -72.153857, -72.10216, -71.96351299999999, -71.955203, -71.856214, -72.474097, -73.262348, -73.4237926181023, -73.45536299999999, -73.49740276398609, null], \"y\": [41.2498425393847, 41.275866, 41.292119, 41.252866999999995, 41.2498425393847, null, 41.097811, 41.123875999999996, 41.100677, 41.058292, 41.097811, null, 41.178945999999996, 41.189011, 41.188671, 41.164950999999995, 41.178945999999996, null, 40.9237276150943, 40.946397, 40.906141, 40.912787, 40.9162, 40.955297, 40.905961, 40.928898, 40.968447999999995, 40.978071, 40.981957, 41.158722, 41.161184999999996, 41.113293, 41.132162, 41.088659, 41.042065, 41.051859, 40.991509, 41.042533, 41.07307, 41.070598, 40.840837, 40.621961999999996, 40.609632588866, 40.842593, 40.9237276150943, null]}, {\"fill\": \"toself\", \"fillcolor\": \"rgb(173, 220, 48)\", \"hoverinfo\": \"none\", \"line\": {\"color\": \"rgb(0, 0, 0)\", \"width\": 0}, \"mode\": \"lines\", \"name\": \"0.08340621769897431\", \"type\": \"scatter\", \"x\": [-73.98138399999999, -73.947355, -73.98148599999999, -73.933775, -73.530067, -73.54472799999999, -73.98138399999999, null], \"y\": [41.324692999999996, 41.395254, 41.438905, 41.488279, 41.527194, 41.366375, 41.324692999999996, null]}, {\"fill\": \"toself\", \"fillcolor\": \"rgb(216, 226, 25)\", \"hoverinfo\": \"none\", \"line\": {\"color\": \"rgb(0, 0, 0)\", \"width\": 0}, \"mode\": \"lines\", \"name\": \"0.08622032055553606\", \"type\": \"scatter\", \"x\": [-74.2343582601916, -73.98138399999999, -73.94578299999999, -73.970784, -73.88748, -73.893979, -74.2343582601916, null], \"y\": [41.142836102143896, 41.324692999999996, 41.287593, 41.247893, 41.138295, 40.997197, 41.142836102143896, null]}, {\"fill\": \"toself\", \"fillcolor\": \"rgb(216, 226, 25)\", \"hoverinfo\": \"none\", \"line\": {\"color\": \"rgb(0, 0, 0)\", \"width\": 0}, \"mode\": \"lines\", \"name\": \"0.1627213548638787\", \"type\": \"scatter\", \"x\": [-73.490973, -73.4895969495325, -73.4933726545695, -73.490973, null, -73.768709, -73.72498399999999, -73.73032599999999, -73.70001599999999, -73.76554, -73.75300899999999, -73.70612, -73.729575, -73.648602, -73.633134, -73.521423, -73.541883, -73.494822, -73.46253, -73.4237926181023, -73.573478, -73.75477599999999, -73.738151, -73.768709, null], \"y\": [40.919471, 40.916740710038, 40.9195932598093, 40.919471, null, 40.624386, 40.652678, 40.722156999999996, 40.739272, 40.810866, 40.838392, 40.815903, 40.8665, 40.828821, 40.90269, 40.918304, 40.876854, 40.894822999999995, 40.867295, 40.609632588866, 40.578005999999995, 40.584404, 40.602709999999995, 40.624386, null]}, {\"fill\": \"toself\", \"fillcolor\": \"rgb(216, 226, 25)\", \"hoverinfo\": \"none\", \"line\": {\"color\": \"rgb(0, 0, 0)\", \"width\": 0}, \"mode\": \"lines\", \"name\": \"0.2176750551740375\", \"type\": \"scatter\", \"x\": [-73.772776, -73.767276, -73.76744099999999, -73.77527599999999, -73.772776, null, -73.982584, -73.54472799999999, -73.550961, -73.482709, -73.727775, -73.65597199999999, -73.7835452253621, -73.91790499999999, -73.88748, -73.970784, -73.94578299999999, -73.982584, null], \"y\": [40.884599, 40.886899, 40.880686999999995, 40.882199, 40.884599, null, 41.321692999999996, 41.366375, 41.295421999999995, 41.212759999999996, 41.100696, 40.979597, 40.881039556340504, 40.917577, 41.138295, 41.247893, 41.287593, 41.321692999999996, null]}, {\"fill\": \"toself\", \"fillcolor\": \"rgb(216, 226, 25)\", \"hoverinfo\": \"none\", \"line\": {\"color\": \"rgb(0, 0, 0)\", \"width\": 0}, \"mode\": \"lines\", \"name\": \"0.2977777993609231\", \"type\": \"scatter\", \"x\": [-74.161704, -74.157552, -74.15919199999999, -74.161255, -74.161704, null, -74.25608799999999, -74.1894, -74.0697, -74.053125, -74.111471, -74.25608799999999, null], \"y\": [40.64586, 40.643239, 40.641448, 40.64179, 40.64586, null, 40.507903, 40.642120999999996, 40.641216, 40.603677999999995, 40.546907999999995, 40.507903, null]}, {\"fill\": \"toself\", \"fillcolor\": \"rgb(253, 231, 37)\", \"hoverinfo\": \"none\", \"line\": {\"color\": \"rgb(0, 0, 0)\", \"width\": 0}, \"mode\": \"lines\", \"name\": \"0.5227349979661092\", \"type\": \"scatter\", \"x\": [-73.96262, -73.91245599999999, -73.817418, -73.701633, -73.73032599999999, -73.72498399999999, -73.768761, -73.737185, -73.940591, -73.849852, -73.833041, -73.868917, -73.896466, -73.96262, null], \"y\": [40.739033, 40.796096, 40.805789999999995, 40.752493, 40.722156999999996, 40.652678, 40.624351999999995, 40.592965, 40.542896, 40.588668999999996, 40.628260999999995, 40.69515, 40.682336, 40.739033, null]}, {\"fill\": \"toself\", \"fillcolor\": \"rgb(253, 231, 37)\", \"hoverinfo\": \"none\", \"line\": {\"color\": \"rgb(0, 0, 0)\", \"width\": 0}, \"mode\": \"lines\", \"name\": \"0.5917055037599533\", \"type\": \"scatter\", \"x\": [-73.999496, -73.9975, -74.0000444533092, -73.999496, null, -74.00049381449809, -74.0002063806559, -73.998763, -74.00103899999999, -74.00049381449809, null, -74.0065121058308, -74.002408, -74.00061737911429, -74.000699, -74.0065121058308, null, -74.0084737266571, -74.008425, -74.012113182521, -74.0084737266571, null, -74.02385865547001, -73.9334079229381, -73.909505, -73.933459, -73.910296, -73.969613, -74.02385865547001, null, -74.027106, -74.01950000000001, -74.012132, -74.013083, -74.027106, null, -74.04692, -74.04086, -74.039401, -74.044451, -74.04692, null], \"y\": [40.700328999999996, 40.699653, 40.6994652660133, 40.700328999999996, null, 40.6987575876666, 40.6992102540544, 40.697109999999995, 40.697899, 40.6987575876666, null, 40.6887282492338, 40.695702999999995, 40.6951221683874, 40.690612, 40.6887282492338, null, 40.68654528455949, 40.686015999999995, 40.6841858115304, 40.68654528455949, null, 40.7130277101558, 40.882074964842694, 40.878878, 40.833183999999996, 40.790656999999996, 40.707634, 40.7130277101558, null, 40.685092, 40.693382, 40.690678999999996, 40.687795, 40.685092, null, 40.691139, 40.700117, 40.700454, 40.688445, 40.691139, null]}, {\"fill\": \"toself\", \"fillcolor\": \"rgb(253, 231, 37)\", \"hoverinfo\": \"none\", \"line\": {\"color\": \"rgb(0, 0, 0)\", \"width\": 0}, \"mode\": \"lines\", \"name\": \"0.5973235321491858\", \"type\": \"scatter\", \"x\": [-73.773361, -73.765258, -73.767179, -73.77234899999999, -73.773361, null, -73.933144, -73.91840499999999, -73.7835452253621, -73.782577, -73.81664099999999, -73.78791799999999, -73.888307, -73.933144, null], \"y\": [40.859449, 40.855360999999995, 40.844865999999996, 40.847421, 40.859449, null, 40.834815, 40.917477, 40.881039556340504, 40.837601, 40.853487, 40.800362, 40.787006, 40.834815, null]}, {\"fill\": \"toself\", \"fillcolor\": \"rgb(253, 231, 37)\", \"hoverinfo\": \"none\", \"line\": {\"color\": \"rgb(0, 0, 0)\", \"width\": 0}, \"mode\": \"lines\", \"name\": \"0.6173200840483278\", \"type\": \"scatter\", \"x\": [-74.0420116265256, -73.95508699999999, -73.896466, -73.868917, -73.833041, -73.849852, -73.93426954323711, -74.012022, -74.0420116265256, null], \"y\": [40.626048022196, 40.7394, 40.682336, 40.69515, 40.628260999999995, 40.588668999999996, 40.5667651450013, 40.574528, 40.626048022196, null]}, {\"hoverinfo\": \"text\", \"legendgroup\": \"centroids\", \"marker\": {\"color\": \"white\", \"opacity\": 0}, \"mode\": \"markers\", \"name\": \"US Counties\", \"selected\": {\"marker\": {\"color\": \"white\", \"opacity\": 1, \"size\": 3}}, \"showlegend\": false, \"text\": [\"County: New York<br>State: New York<br>FIPS: 36061<br>Value: 0.5917055037599533\", \"County: New York<br>State: New York<br>FIPS: 36061<br>Value: 0.5917055037599533\", \"County: New York<br>State: New York<br>FIPS: 36061<br>Value: 0.5917055037599533\", \"County: New York<br>State: New York<br>FIPS: 36061<br>Value: 0.5917055037599533\", \"County: New York<br>State: New York<br>FIPS: 36061<br>Value: 0.5917055037599533\", \"County: New York<br>State: New York<br>FIPS: 36061<br>Value: 0.5917055037599533\", \"County: New York<br>State: New York<br>FIPS: 36061<br>Value: 0.5917055037599533\", \"County: Nassau<br>State: New York<br>FIPS: 36059<br>Value: 0.1627213548638787\", \"County: Nassau<br>State: New York<br>FIPS: 36059<br>Value: 0.1627213548638787\", \"County: Jefferson<br>State: New York<br>FIPS: 36045<br>Value: 0.003691063545646771\", \"County: Jefferson<br>State: New York<br>FIPS: 36045<br>Value: 0.003691063545646771\", \"County: Jefferson<br>State: New York<br>FIPS: 36045<br>Value: 0.003691063545646771\", \"County: Jefferson<br>State: New York<br>FIPS: 36045<br>Value: 0.003691063545646771\", \"County: Jefferson<br>State: New York<br>FIPS: 36045<br>Value: 0.003691063545646771\", \"County: Jefferson<br>State: New York<br>FIPS: 36045<br>Value: 0.003691063545646771\", \"County: Jefferson<br>State: New York<br>FIPS: 36045<br>Value: 0.003691063545646771\", \"County: Jefferson<br>State: New York<br>FIPS: 36045<br>Value: 0.003691063545646771\", \"County: Jefferson<br>State: New York<br>FIPS: 36045<br>Value: 0.003691063545646771\", \"County: Bronx<br>State: New York<br>FIPS: 36005<br>Value: 0.5973235321491858\", \"County: Bronx<br>State: New York<br>FIPS: 36005<br>Value: 0.5973235321491858\", \"County: Westchester<br>State: New York<br>FIPS: 36119<br>Value: 0.2176750551740375\", \"County: Westchester<br>State: New York<br>FIPS: 36119<br>Value: 0.2176750551740375\", \"County: Suffolk<br>State: New York<br>FIPS: 36103<br>Value: 0.0653838210078221\", \"County: Suffolk<br>State: New York<br>FIPS: 36103<br>Value: 0.0653838210078221\", \"County: Suffolk<br>State: New York<br>FIPS: 36103<br>Value: 0.0653838210078221\", \"County: Suffolk<br>State: New York<br>FIPS: 36103<br>Value: 0.0653838210078221\", \"County: Richmond<br>State: New York<br>FIPS: 36085<br>Value: 0.2977777993609231\", \"County: Richmond<br>State: New York<br>FIPS: 36085<br>Value: 0.2977777993609231\", \"County: Queens<br>State: New York<br>FIPS: 36081<br>Value: 0.5227349979661092\", \"County: Rensselaer<br>State: New York<br>FIPS: 36083<br>Value: 0.022411286002193935\", \"County: Rockland<br>State: New York<br>FIPS: 36087<br>Value: 0.08622032055553606\", \"County: St. Lawrence<br>State: New York<br>FIPS: 36089<br>Value: 0.004301764180948677\", \"County: Saratoga<br>State: New York<br>FIPS: 36091<br>Value: 0.008560826928173866\", \"County: Schenectady<br>State: New York<br>FIPS: 36093<br>Value: 0.04009703786406429\", \"County: Schoharie<br>State: New York<br>FIPS: 36095<br>Value: 0.014553922282055013\", \"County: Schuyler<br>State: New York<br>FIPS: 36097<br>Value: 0.00813720580871307\", \"County: Seneca<br>State: New York<br>FIPS: 36099<br>Value: 0.00522521330775845\", \"County: Steuben<br>State: New York<br>FIPS: 36101<br>Value: 0.006732889215523577\", \"County: Sullivan<br>State: New York<br>FIPS: 36105<br>Value: 0.020041109969167522\", \"County: Tioga<br>State: New York<br>FIPS: 36107<br>Value: 0.005280190768182593\", \"County: Tompkins<br>State: New York<br>FIPS: 36109<br>Value: 0.06272127369854405\", \"County: Ulster<br>State: New York<br>FIPS: 36111<br>Value: 0.02377238035808573\", \"County: Warren<br>State: New York<br>FIPS: 36113<br>Value: 0.010205064022335612\", \"County: Washington<br>State: New York<br>FIPS: 36115<br>Value: 0.0085778619679045\", \"County: Wayne<br>State: New York<br>FIPS: 36117<br>Value: 0.006693947063415096\", \"County: Wyoming<br>State: New York<br>FIPS: 36121<br>Value: 0.0036951246415177588\", \"County: Yates<br>State: New York<br>FIPS: 36123<br>Value: 0.00287588748090231\", \"County: Albany<br>State: New York<br>FIPS: 36001<br>Value: 0.05725841341426642\", \"County: Allegany<br>State: New York<br>FIPS: 36003<br>Value: 0.006160371642092506\", \"County: Broome<br>State: New York<br>FIPS: 36007<br>Value: 0.03318785338384827\", \"County: Cattaraugus<br>State: New York<br>FIPS: 36009<br>Value: 0.004947396656036718\", \"County: Cayuga<br>State: New York<br>FIPS: 36011<br>Value: 0.009183475293399551\", \"County: Chautauqua<br>State: New York<br>FIPS: 36013<br>Value: 0.0033253903332503467\", \"County: Chemung<br>State: New York<br>FIPS: 36015<br>Value: 0.020447233374990027\", \"County: Chenango<br>State: New York<br>FIPS: 36017<br>Value: 0.006536876509876368\", \"County: Clinton<br>State: New York<br>FIPS: 36019<br>Value: 0.00608946608946609\", \"County: Columbia<br>State: New York<br>FIPS: 36021<br>Value: 0.02299873370067422\", \"County: Cortland<br>State: New York<br>FIPS: 36023<br>Value: 0.00825742742827956\", \"County: Delaware<br>State: New York<br>FIPS: 36025<br>Value: 0.014543760674913307\", \"County: Dutchess<br>State: New York<br>FIPS: 36027<br>Value: 0.05022290381254681\", \"County: Erie<br>State: New York<br>FIPS: 36029<br>Value: 0.03698401004526858\", \"County: Essex<br>State: New York<br>FIPS: 36031<br>Value: 0.007135458625848775\", \"County: Franklin<br>State: New York<br>FIPS: 36033<br>Value: 0.0069622197194635\", \"County: Fulton<br>State: New York<br>FIPS: 36035<br>Value: 0.005988278263824004\", \"County: Genesee<br>State: New York<br>FIPS: 36037<br>Value: 0.004048582995951417\", \"County: Greene<br>State: New York<br>FIPS: 36039<br>Value: 0.00944081336238199\", \"County: Hamilton<br>State: New York<br>FIPS: 36041<br>Value: 0.001658374792703151\", \"County: Herkimer<br>State: New York<br>FIPS: 36043<br>Value: 0.008366871425545435\", \"County: Kings<br>State: New York<br>FIPS: 36047<br>Value: 0.6173200840483278\", \"County: Lewis<br>State: New York<br>FIPS: 36049<br>Value: 0.0017976373908577298\", \"County: Livingston<br>State: New York<br>FIPS: 36051<br>Value: 0.004684794785619717\", \"County: Madison<br>State: New York<br>FIPS: 36053<br>Value: 0.0036989088218975404\", \"County: Monroe<br>State: New York<br>FIPS: 36055<br>Value: 0.029040368292006184\", \"County: Montgomery<br>State: New York<br>FIPS: 36057<br>Value: 0.01324534978243198\", \"County: Niagara<br>State: New York<br>FIPS: 36063<br>Value: 0.0118519868018866\", \"County: Oneida<br>State: New York<br>FIPS: 36065<br>Value: 0.011155786818038473\", \"County: Onondaga<br>State: New York<br>FIPS: 36067<br>Value: 0.031766867944342345\", \"County: Ontario<br>State: New York<br>FIPS: 36069<br>Value: 0.00930276981852913\", \"County: Orange<br>State: New York<br>FIPS: 36071<br>Value: 0.051410325262101014\", \"County: Orleans<br>State: New York<br>FIPS: 36073<br>Value: 0.009112567004169148\", \"County: Oswego<br>State: New York<br>FIPS: 36075<br>Value: 0.007918373778758273\", \"County: Otsego<br>State: New York<br>FIPS: 36077<br>Value: 0.01840225156960381\", \"County: Putnam<br>State: New York<br>FIPS: 36079<br>Value: 0.08340621769897431\"], \"type\": \"scatter\", \"unselected\": {\"marker\": {\"opacity\": 0}}, \"x\": [[-73.99901348443639], [-74.00000279355197], [-74.00348387544273], [-74.00958610726083], [-73.96656482880358], [-74.01929263692868], [-74.04266306753995], [-73.49131420136733], [-73.58640734387467], [-76.14427346995656], [-76.17729404728392], [-76.32647494244142], [-76.3294423055971], [-75.91801294481763], [-76.36840090395376], [-76.36222073872102], [-76.39552345028979], [-76.41193748921248], [-73.77045075631814], [-73.86649223768774], [-73.77062435024908], [-73.75605592283692], [-71.98808192159646], [-72.10561325190685], [-72.19288869812053], [-72.8527236062356], [-74.15989566400408], [-74.15238026243992], -73.82027150211759, -73.509718158337, -74.02405250404311, -75.06908273954282, -73.86389774311138, -74.0585715183776, -74.44211424005411, -76.87517162586482, -76.8237825889805, -77.38378703841286, -74.76811778499355, -76.3063511209647, -76.47363747812672, -74.25855730229287, -73.84601672855445, -73.4307521395262, -77.02937262436089, -78.22445512260957, -77.10546795181085, -73.97355542101843, -78.02758624086563, -75.81962213049202, -78.6788351243448, -76.55450718450714, -79.36632642247638, -76.76002679640976, -75.61159184767064, -73.67816383781363, -73.63179668115156, -76.07027860398979, -74.96646911377728, -73.74285996117433, -78.73231509589904, -73.77260525882942, -74.30383467142154, -74.42215649614943, -78.19375658552433, -74.12272098144103, -74.49737625134362, -74.96252381930337, -73.93852843096236, -75.44884850092478, -77.77549351921364, -75.6696484439169, -77.69608957904444, -74.43971570007935, -78.74524868960145, -75.43584934715982, -76.19463680960811, -77.29981971925324, -74.3055436049393, -78.2312130736263, -76.14136022368149, -75.03259647948711, -73.74948040926651], \"y\": [[40.69981575533777], [40.69807308468481], [40.69147399883888], [40.68563716591982], [40.77961502597045], [40.688990961665645], [40.69440710009607], [40.91860165661576], [40.732795602701906], [43.94229357710091], [44.01957899219805], [44.039434320793355], [43.89388121790823], [44.05013744284525], [43.87688304549171], [44.04328724625686], [43.88537752477037], [43.90648051458638], [40.85317361388843], [40.85000456623781], [40.883727751916524], [41.16241021638098], [41.27040809377992], [41.09218862293396], [41.179652544634465], [40.86545223634003], [40.643487254408534], [40.58072907231908], 40.702283940091185, 42.71107860576465, 41.152376498676595, 44.496396398570894, 43.10737987470139, 42.81812730759885, 42.58821665768087, 42.39380391052364, 42.781053529657555, 42.26780928414163, 41.71642495161045, 42.17033434388805, 42.45202686105005, 41.88814105495257, 43.56096681584034, 43.31371304888923, 43.156637076755246, 42.70236787883212, 42.63344943138025, 42.600176751602, 42.25740309598759, 42.160249942026994, 42.24860619485467, 42.917497631272944, 42.22815812341481, 42.14125610775018, 42.4935043012482, 44.74617997144363, 42.250081163938944, 42.59501365823196, 42.198069252881574, 41.765146647968145, 42.76395259259117, 44.117189112744484, 44.59286069917278, 43.11383533364662, 43.00093079422439, 42.27651367106724, 43.661130372187365, 43.41970968730116, 40.639537866057324, 43.78465658261425, 42.72806217162971, 42.912767326492286, 43.14644572236621, 42.902291807254855, 43.20006122999729, 43.24173709298917, 43.005812674136365, 42.852848585203056, 41.402133158557774, 43.25207730983017, 43.42692382942437, 42.63375396967829, 41.426662817567134]}, {\"hoverinfo\": \"text\", \"legendgroup\": \"States\", \"line\": {\"color\": \"rgb(240, 240, 240)\", \"width\": 1}, \"mode\": \"lines\", \"showlegend\": false, \"type\": \"scatter\", \"x\": [-72.0368298202051, -72.020495, -71.92138299999999, -72.002461, -72.0368298202051, null, -72.142929, -72.12979399999999, -72.079514, -72.086975, -72.142929, null, -72.210995, -72.18898, -72.161034, -72.198601, -72.210995, null, -73.773361, -73.765258, -73.767179, -73.77234899999999, -73.773361, null, -73.772776, -73.767276, -73.76744099999999, -73.77527599999999, -73.772776, null, -74.027106, -74.01950000000001, -74.012132, -74.013083, -74.027106, null, -74.04692, -74.04086, -74.039401, -74.044451, -74.04692, null, -74.161704, -74.157552, -74.15919199999999, -74.161255, -74.161704, null, -74.25608799999999, -74.1894, -74.0697, -74.053125, -74.111471, -74.25608799999999, null, -76.14753499999999, -76.142569, -76.140667, -76.144708, -76.14753499999999, null, -76.187253, -76.173467, -76.169664, -76.176557, -76.187253, null, -76.336761, -76.329628, -76.317726, -76.321297, -76.336761, null, -76.356691, -76.345978, -76.3013, -76.326393, -76.356691, null, -76.373772, -76.36784899999999, -76.364173, -76.365988, -76.373772, null, -76.383338, -76.37007899999999, -76.342117, -76.36174799999999, -76.383338, null, -76.398564, -76.394578, -76.392347, -76.395759, -76.398564, null, -76.445999, -76.406471, -76.377945, -76.399976, -76.445999, null, -79.762152, -79.761951, -79.453533, -79.354483, -79.14872299999999, -79.04675399999999, -78.853455, -78.918859, -79.019964, -78.99943499999999, -79.074467, -79.042366, -79.070469, -78.485857, -77.76023099999999, -77.539548, -77.391015, -76.952412, -76.787949, -76.417581, -76.291258, -76.209853, -76.213205, -76.23498599999999, -76.297392, -76.21376099999999, -76.237363, -76.199809, -76.127285, -76.13435799999999, -76.059062, -76.200249, -76.120695, -76.168284, -76.15505399999999, -76.211384, -76.20164, -76.272706, -76.278691, -76.199693, -76.280677, -76.29528499999999, -76.360306, -76.344247, -76.370706, -76.312647, -76.206777, -76.164265, -76.161833, -75.91298499999999, -75.82083, -75.76623, -75.283136, -74.992756, -74.826578, -74.731301, -73.343124, -73.338979, -73.381359, -73.333154, -73.390231, -73.293613, -73.33493899999999, -73.31285199999999, -73.39058299999999, -73.43773999999999, -73.374051, -73.39249199999999, -73.350593, -73.431229, -73.39576699999999, -73.371889, -73.306234, -73.24158899999999, -73.290944, -73.264957, -73.50814199999999, -73.489615, -73.550961, -73.482709, -73.727775, -73.65597199999999, -73.74224699999999, -73.791209, -73.781206, -73.8126, -73.81520499999999, -73.75888499999999, -73.75300899999999, -73.70612, -73.73067499999999, -73.648602, -73.633134, -73.521423, -73.541883, -73.494822, -73.469391, -73.485365, -73.41615, -73.35506699999999, -73.407356, -73.392862, -73.22838399999999, -73.148994, -73.159576, -73.118331, -72.635562, -72.278789, -72.232006, -72.294778, -72.32663, -72.317238, -72.260515, -72.153857, -72.10216, -71.96351299999999, -71.955203, -71.856214, -72.39585, -73.054963, -73.573478, -73.774928, -73.940591, -73.931559, -74.012022, -74.042412, -73.996698, -74.024543, -74.013784, -73.893979, -74.696398, -74.738455, -74.893913, -74.912517, -74.983341, -75.074613, -75.044224, -75.053431, -75.10464, -75.072172, -75.170565, -75.260527, -75.279094, -75.359579, -79.76137399999999, -79.762152, null, null], \"y\": [41.2498425393847, 41.275866, 41.292119, 41.252866999999995, 41.2498425393847, null, 41.097811, 41.123875999999996, 41.100677, 41.058292, 41.097811, null, 41.178945999999996, 41.189011, 41.188671, 41.164950999999995, 41.178945999999996, null, 40.859449, 40.855360999999995, 40.844865999999996, 40.847421, 40.859449, null, 40.884599, 40.886899, 40.880686999999995, 40.882199, 40.884599, null, 40.685092, 40.693382, 40.690678999999996, 40.687795, 40.685092, null, 40.691139, 40.700117, 40.700454, 40.688445, 40.691139, null, 40.64586, 40.643239, 40.641448, 40.64179, 40.64586, null, 40.507903, 40.642120999999996, 40.641216, 40.603677999999995, 40.546907999999995, 40.507903, null, 43.942484, 43.944167, 43.942284, 43.940231, 43.942484, null, 44.013777, 44.024716, 44.024887, 44.017196, 44.013777, null, 44.034183999999996, 44.044295999999996, 44.051434, 44.031208, 44.034183999999996, null, 43.878246, 43.894034999999995, 43.917750999999996, 43.880973999999995, 43.878246, null, 43.874784, 43.879003999999995, 43.87856, 43.876188, 43.874784, null, 44.037361, 44.052029, 44.053813999999996, 44.032993, 44.037361, null, 43.884133, 43.888076, 43.887859, 43.882729999999995, 43.884133, null, 43.890254999999996, 43.921188, 43.921188, 43.901711, 43.890254999999996, null, 42.243054, 42.26986, 42.411156999999996, 42.494071, 42.553672, 42.691345999999996, 42.783958, 42.946857, 42.994755999999995, 43.056056999999996, 43.077855, 43.143654999999995, 43.262454, 43.374884, 43.341161, 43.235091, 43.276362999999996, 43.270313, 43.311309, 43.521285, 43.513783, 43.560136, 43.753513, 43.822624999999995, 43.855925, 43.900234, 43.863596, 43.854341, 43.897889, 43.945664, 43.9857, 43.967931, 44.031296, 44.032723, 44.064353, 44.057351, 44.079038999999995, 44.04078, 44.016067, 44.025585, 43.959683, 44.058717, 44.070907, 44.087917, 44.100499, 44.199044, 44.214543, 44.239602999999995, 44.280777, 44.368083999999996, 44.432244, 44.515851, 44.849156, 44.977449, 45.01585, 44.990421999999995, 45.010839999999995, 44.917680999999995, 44.845020999999996, 44.788759, 44.618353, 44.440559, 44.364441, 44.265346, 44.190886, 44.045006, 43.875563, 43.820778999999995, 43.771938999999996, 43.588285, 43.568087, 43.624489, 43.628018, 43.534973, 42.801919999999996, 42.74594, 42.086256999999996, 42.000091999999995, 41.295421999999995, 41.212759999999996, 41.100696, 40.979597, 40.927693, 40.868946, 40.838891, 40.8587, 40.831075, 40.769118, 40.838392, 40.815903, 40.8654, 40.828821, 40.90269, 40.918304, 40.876854, 40.894822999999995, 40.86643, 40.946397, 40.904343999999995, 40.912787, 40.9162, 40.955297, 40.905961, 40.928898, 40.968447999999995, 40.978071, 40.981957, 41.158722, 41.161184999999996, 41.113293, 41.132162, 41.088659, 41.042065, 41.051859, 40.991509, 41.042533, 41.07307, 41.070598, 40.866659999999996, 40.666371, 40.578005999999995, 40.590759, 40.542896, 40.575962, 40.574528, 40.624846999999995, 40.700877, 40.709436, 40.756600999999996, 40.997197, 41.357338999999996, 41.430641, 41.43893, 41.475605, 41.480894, 41.605711, 41.617978, 41.752538, 41.774203, 41.813731999999995, 41.871607999999995, 41.863800000000005, 41.938917, 41.999445, 41.999067, 42.243054, null, null]}],\n",
              "                        {\"annotations\": [{\"showarrow\": false, \"text\": \"<b>% Public Transit</b>\", \"x\": 1, \"xanchor\": \"right\", \"xref\": \"paper\", \"y\": 1.05, \"yref\": \"paper\"}], \"dragmode\": \"select\", \"height\": 450, \"hovermode\": \"closest\", \"legend\": {\"traceorder\": \"reversed\", \"x\": 1, \"xanchor\": \"right\", \"y\": 1, \"yanchor\": \"top\"}, \"margin\": {\"b\": 20, \"l\": 20, \"r\": 20, \"t\": 40}, \"title\": {\"text\": \"NY Public Transit Use by County\"}, \"width\": 900, \"xaxis\": {\"autorange\": false, \"fixedrange\": true, \"range\": [-81.44411674999999, -70.17424924999999], \"showgrid\": false, \"showticklabels\": false, \"zeroline\": false}, \"yaxis\": {\"autorange\": false, \"fixedrange\": true, \"range\": [40.507903, 45.01585], \"showgrid\": false, \"showticklabels\": false, \"zeroline\": false}},\n",
              "                        {\"responsive\": true}\n",
              "                    ).then(function(){\n",
              "                            \n",
              "var gd = document.getElementById('430b5be2-d0ef-4034-9b59-179ec9e437ea');\n",
              "var x = new MutationObserver(function (mutations, observer) {{\n",
              "        var display = window.getComputedStyle(gd).display;\n",
              "        if (!display || display === 'none') {{\n",
              "            console.log([gd, 'removed!']);\n",
              "            Plotly.purge(gd);\n",
              "            observer.disconnect();\n",
              "        }}\n",
              "}});\n",
              "\n",
              "// Listen for the removal of the full notebook cells\n",
              "var notebookContainer = gd.closest('#notebook-container');\n",
              "if (notebookContainer) {{\n",
              "    x.observe(notebookContainer, {childList: true});\n",
              "}}\n",
              "\n",
              "// Listen for the clearing of the current output cell\n",
              "var outputEl = gd.closest('.output');\n",
              "if (outputEl) {{\n",
              "    x.observe(outputEl, {childList: true});\n",
              "}}\n",
              "\n",
              "                        })\n",
              "                };\n",
              "                \n",
              "            </script>\n",
              "        </div>\n",
              "</body>\n",
              "</html>"
            ]
          },
          "metadata": {
            "tags": []
          }
        }
      ]
    },
    {
      "cell_type": "code",
      "metadata": {
        "id": "RGD4G6XaqIkb"
      },
      "source": [
        ""
      ],
      "execution_count": null,
      "outputs": []
    }
  ]
}